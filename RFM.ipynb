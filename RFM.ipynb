{
 "cells": [
  {
   "cell_type": "code",
   "execution_count": 1,
   "metadata": {},
   "outputs": [
    {
     "name": "stdout",
     "output_type": "stream",
     "text": [
      "<class 'pandas.core.frame.DataFrame'>\n",
      "RangeIndex: 2240 entries, 0 to 2239\n",
      "Data columns (total 29 columns):\n",
      " #   Column               Non-Null Count  Dtype  \n",
      "---  ------               --------------  -----  \n",
      " 0   ID                   2240 non-null   int64  \n",
      " 1   Year_Birth           2240 non-null   int64  \n",
      " 2   Education            2240 non-null   object \n",
      " 3   Marital_Status       2240 non-null   object \n",
      " 4   Income               2216 non-null   float64\n",
      " 5   Kidhome              2240 non-null   int64  \n",
      " 6   Teenhome             2240 non-null   int64  \n",
      " 7   Dt_Customer          2240 non-null   object \n",
      " 8   Recency              2240 non-null   int64  \n",
      " 9   MntWines             2240 non-null   int64  \n",
      " 10  MntFruits            2240 non-null   int64  \n",
      " 11  MntMeatProducts      2240 non-null   int64  \n",
      " 12  MntFishProducts      2240 non-null   int64  \n",
      " 13  MntSweetProducts     2240 non-null   int64  \n",
      " 14  MntGoldProds         2240 non-null   int64  \n",
      " 15  NumDealsPurchases    2240 non-null   int64  \n",
      " 16  NumWebPurchases      2240 non-null   int64  \n",
      " 17  NumCatalogPurchases  2240 non-null   int64  \n",
      " 18  NumStorePurchases    2240 non-null   int64  \n",
      " 19  NumWebVisitsMonth    2240 non-null   int64  \n",
      " 20  AcceptedCmp3         2240 non-null   int64  \n",
      " 21  AcceptedCmp4         2240 non-null   int64  \n",
      " 22  AcceptedCmp5         2240 non-null   int64  \n",
      " 23  AcceptedCmp1         2240 non-null   int64  \n",
      " 24  AcceptedCmp2         2240 non-null   int64  \n",
      " 25  Complain             2240 non-null   int64  \n",
      " 26  Z_CostContact        2240 non-null   int64  \n",
      " 27  Z_Revenue            2240 non-null   int64  \n",
      " 28  Response             2240 non-null   int64  \n",
      "dtypes: float64(1), int64(25), object(3)\n",
      "memory usage: 507.6+ KB\n"
     ]
    }
   ],
   "source": [
    "import pandas as pd\n",
    "import matplotlib.pyplot as plt\n",
    "import seaborn as sns\n",
    "import plotly.graph_objects as go\n",
    "\n",
    "df = pd.read_csv('Customer analysis.csv', sep='\\t')\n",
    "df.info()"
   ]
  },
  {
   "cell_type": "code",
   "execution_count": 2,
   "metadata": {},
   "outputs": [
    {
     "data": {
      "text/plain": [
       "Index(['ID', 'Year_Birth', 'Education', 'Marital_Status', 'Income', 'Kidhome',\n",
       "       'Teenhome', 'Dt_Customer', 'Recency', 'MntWines', 'MntFruits',\n",
       "       'MntMeatProducts', 'MntFishProducts', 'MntSweetProducts',\n",
       "       'MntGoldProds', 'NumDealsPurchases', 'NumWebPurchases',\n",
       "       'NumCatalogPurchases', 'NumStorePurchases', 'NumWebVisitsMonth',\n",
       "       'AcceptedCmp3', 'AcceptedCmp4', 'AcceptedCmp5', 'AcceptedCmp1',\n",
       "       'AcceptedCmp2', 'Complain', 'Z_CostContact', 'Z_Revenue', 'Response'],\n",
       "      dtype='object')"
      ]
     },
     "execution_count": 2,
     "metadata": {},
     "output_type": "execute_result"
    }
   ],
   "source": [
    "df.columns"
   ]
  },
  {
   "cell_type": "code",
   "execution_count": 4,
   "metadata": {},
   "outputs": [
    {
     "data": {
      "text/plain": [
       "ID                      0\n",
       "Year_Birth              0\n",
       "Education               0\n",
       "Marital_Status          0\n",
       "Income                 24\n",
       "Kidhome                 0\n",
       "Teenhome                0\n",
       "Dt_Customer             0\n",
       "Recency                 0\n",
       "MntWines                0\n",
       "MntFruits               0\n",
       "MntMeatProducts         0\n",
       "MntFishProducts         0\n",
       "MntSweetProducts        0\n",
       "MntGoldProds            0\n",
       "NumDealsPurchases       0\n",
       "NumWebPurchases         0\n",
       "NumCatalogPurchases     0\n",
       "NumStorePurchases       0\n",
       "NumWebVisitsMonth       0\n",
       "AcceptedCmp3            0\n",
       "AcceptedCmp4            0\n",
       "AcceptedCmp5            0\n",
       "AcceptedCmp1            0\n",
       "AcceptedCmp2            0\n",
       "Complain                0\n",
       "Z_CostContact           0\n",
       "Z_Revenue               0\n",
       "Response                0\n",
       "dtype: int64"
      ]
     },
     "execution_count": 4,
     "metadata": {},
     "output_type": "execute_result"
    }
   ],
   "source": [
    "df.isna().sum()"
   ]
  },
  {
   "cell_type": "code",
   "execution_count": 5,
   "metadata": {},
   "outputs": [
    {
     "data": {
      "text/plain": [
       "0"
      ]
     },
     "execution_count": 5,
     "metadata": {},
     "output_type": "execute_result"
    }
   ],
   "source": [
    "df.duplicated(subset='ID').sum()"
   ]
  },
  {
   "cell_type": "code",
   "execution_count": 6,
   "metadata": {},
   "outputs": [],
   "source": [
    "df= df.dropna()"
   ]
  },
  {
   "cell_type": "code",
   "execution_count": 12,
   "metadata": {},
   "outputs": [
    {
     "data": {
      "text/plain": [
       "Index(['ID', 'Year_Birth', 'Education', 'Marital_Status', 'Income', 'Kidhome',\n",
       "       'Teenhome', 'Dt_Customer', 'Recency', 'MntWines', 'MntFruits',\n",
       "       'MntMeatProducts', 'MntFishProducts', 'MntSweetProducts',\n",
       "       'MntGoldProds', 'NumDealsPurchases', 'NumWebPurchases',\n",
       "       'NumCatalogPurchases', 'NumStorePurchases', 'NumWebVisitsMonth',\n",
       "       'AcceptedCmp3', 'AcceptedCmp4', 'AcceptedCmp5', 'AcceptedCmp1',\n",
       "       'AcceptedCmp2', 'Complain', 'Z_CostContact', 'Z_Revenue', 'Response'],\n",
       "      dtype='object')"
      ]
     },
     "execution_count": 12,
     "metadata": {},
     "output_type": "execute_result"
    }
   ],
   "source": [
    "df.columns"
   ]
  },
  {
   "cell_type": "code",
   "execution_count": 14,
   "metadata": {},
   "outputs": [],
   "source": [
    "# change column type from object to datetime\n",
    "df['Dt_Customer'] = pd.to_datetime(df['Dt_Customer'], format = '%d-%m-%Y')\n",
    "df['Dt_Customer_month'] = df['Dt_Customer'].dt.month\n",
    "df['Dt_Customer_year'] = df['Dt_Customer'].dt.year\n",
    "\n",
    "# Convert the datetime column to the number of seconds since the Unix Epoch\n",
    "df['Dt_Customer_seconds'] = (df['Dt_Customer'] - pd.Timestamp('1970-01-01')) // pd.Timedelta('1s')\n",
    "df = df.drop(columns=['Dt_Customer'])\n",
    "\n",
    "df = df[df['Year_Birth']>1940]\n",
    "\n",
    "df.columns\n",
    "\n",
    "def classify_age(year):\n",
    "    if year <= 1964:\n",
    "        return 'baby_boomer'\n",
    "    elif year > 1964 and year < 1980:\n",
    "        return 'generation_x'\n",
    "    elif year >= 1980 and year < 1990:\n",
    "        return 'millenial'\n",
    "    else:\n",
    "        return 'gen_z'\n",
    "\n",
    "#classify group\n",
    "df['age_group'] = df['Year_Birth'].apply(classify_age)\n",
    "\n",
    "#sum amount columns\n",
    "amount_columns = [column for column in df.columns if column.startswith('Mnt')]\n",
    "df['sum_amount'] = df[amount_columns].sum(axis=1)\n",
    "\n",
    "#sum trx columns\n",
    "trx_columns = [column for column in df.columns if column.startswith('Num')]\n",
    "df['count_trx'] = df[trx_columns].sum(axis=1)"
   ]
  },
  {
   "cell_type": "code",
   "execution_count": 15,
   "metadata": {},
   "outputs": [
    {
     "data": {
      "text/html": [
       "<div>\n",
       "<style scoped>\n",
       "    .dataframe tbody tr th:only-of-type {\n",
       "        vertical-align: middle;\n",
       "    }\n",
       "\n",
       "    .dataframe tbody tr th {\n",
       "        vertical-align: top;\n",
       "    }\n",
       "\n",
       "    .dataframe thead th {\n",
       "        text-align: right;\n",
       "    }\n",
       "</style>\n",
       "<table border=\"1\" class=\"dataframe\">\n",
       "  <thead>\n",
       "    <tr style=\"text-align: right;\">\n",
       "      <th></th>\n",
       "      <th>age_group</th>\n",
       "      <th>ID</th>\n",
       "    </tr>\n",
       "  </thead>\n",
       "  <tbody>\n",
       "    <tr>\n",
       "      <th>0</th>\n",
       "      <td>baby_boomer</td>\n",
       "      <td>771</td>\n",
       "    </tr>\n",
       "    <tr>\n",
       "      <th>1</th>\n",
       "      <td>gen_z</td>\n",
       "      <td>61</td>\n",
       "    </tr>\n",
       "    <tr>\n",
       "      <th>2</th>\n",
       "      <td>generation_x</td>\n",
       "      <td>1022</td>\n",
       "    </tr>\n",
       "    <tr>\n",
       "      <th>3</th>\n",
       "      <td>millenial</td>\n",
       "      <td>358</td>\n",
       "    </tr>\n",
       "  </tbody>\n",
       "</table>\n",
       "</div>"
      ],
      "text/plain": [
       "      age_group    ID\n",
       "0   baby_boomer   771\n",
       "1         gen_z    61\n",
       "2  generation_x  1022\n",
       "3     millenial   358"
      ]
     },
     "execution_count": 15,
     "metadata": {},
     "output_type": "execute_result"
    }
   ],
   "source": [
    "gb_age = df.groupby('age_group').agg({'ID':'count'}).reset_index()\n",
    "gb_age"
   ]
  },
  {
   "cell_type": "code",
   "execution_count": 16,
   "metadata": {},
   "outputs": [
    {
     "data": {
      "application/vnd.plotly.v1+json": {
       "config": {
        "plotlyServerURL": "https://plot.ly"
       },
       "data": [
        {
         "labels": [
          "baby_boomer",
          "gen_z",
          "generation_x",
          "millenial"
         ],
         "marker": {
          "colors": [
           "yellow",
           "blackblue",
           "lightcoral",
           "lightgreen"
          ]
         },
         "parents": [
          "",
          "",
          "",
          ""
         ],
         "textfont": {
          "color": "black",
          "family": "Arial Black",
          "size": 19
         },
         "texttemplate": "%{label}<br>%{value}<br>%{percentParent:.2%},",
         "type": "treemap",
         "values": [
          771,
          61,
          1022,
          358
         ]
        }
       ],
       "layout": {
        "margin": {
         "b": 0,
         "l": 0,
         "r": 0,
         "t": 0
        },
        "template": {
         "data": {
          "bar": [
           {
            "error_x": {
             "color": "#2a3f5f"
            },
            "error_y": {
             "color": "#2a3f5f"
            },
            "marker": {
             "line": {
              "color": "#E5ECF6",
              "width": 0.5
             },
             "pattern": {
              "fillmode": "overlay",
              "size": 10,
              "solidity": 0.2
             }
            },
            "type": "bar"
           }
          ],
          "barpolar": [
           {
            "marker": {
             "line": {
              "color": "#E5ECF6",
              "width": 0.5
             },
             "pattern": {
              "fillmode": "overlay",
              "size": 10,
              "solidity": 0.2
             }
            },
            "type": "barpolar"
           }
          ],
          "carpet": [
           {
            "aaxis": {
             "endlinecolor": "#2a3f5f",
             "gridcolor": "white",
             "linecolor": "white",
             "minorgridcolor": "white",
             "startlinecolor": "#2a3f5f"
            },
            "baxis": {
             "endlinecolor": "#2a3f5f",
             "gridcolor": "white",
             "linecolor": "white",
             "minorgridcolor": "white",
             "startlinecolor": "#2a3f5f"
            },
            "type": "carpet"
           }
          ],
          "choropleth": [
           {
            "colorbar": {
             "outlinewidth": 0,
             "ticks": ""
            },
            "type": "choropleth"
           }
          ],
          "contour": [
           {
            "colorbar": {
             "outlinewidth": 0,
             "ticks": ""
            },
            "colorscale": [
             [
              0,
              "#0d0887"
             ],
             [
              0.1111111111111111,
              "#46039f"
             ],
             [
              0.2222222222222222,
              "#7201a8"
             ],
             [
              0.3333333333333333,
              "#9c179e"
             ],
             [
              0.4444444444444444,
              "#bd3786"
             ],
             [
              0.5555555555555556,
              "#d8576b"
             ],
             [
              0.6666666666666666,
              "#ed7953"
             ],
             [
              0.7777777777777778,
              "#fb9f3a"
             ],
             [
              0.8888888888888888,
              "#fdca26"
             ],
             [
              1,
              "#f0f921"
             ]
            ],
            "type": "contour"
           }
          ],
          "contourcarpet": [
           {
            "colorbar": {
             "outlinewidth": 0,
             "ticks": ""
            },
            "type": "contourcarpet"
           }
          ],
          "heatmap": [
           {
            "colorbar": {
             "outlinewidth": 0,
             "ticks": ""
            },
            "colorscale": [
             [
              0,
              "#0d0887"
             ],
             [
              0.1111111111111111,
              "#46039f"
             ],
             [
              0.2222222222222222,
              "#7201a8"
             ],
             [
              0.3333333333333333,
              "#9c179e"
             ],
             [
              0.4444444444444444,
              "#bd3786"
             ],
             [
              0.5555555555555556,
              "#d8576b"
             ],
             [
              0.6666666666666666,
              "#ed7953"
             ],
             [
              0.7777777777777778,
              "#fb9f3a"
             ],
             [
              0.8888888888888888,
              "#fdca26"
             ],
             [
              1,
              "#f0f921"
             ]
            ],
            "type": "heatmap"
           }
          ],
          "heatmapgl": [
           {
            "colorbar": {
             "outlinewidth": 0,
             "ticks": ""
            },
            "colorscale": [
             [
              0,
              "#0d0887"
             ],
             [
              0.1111111111111111,
              "#46039f"
             ],
             [
              0.2222222222222222,
              "#7201a8"
             ],
             [
              0.3333333333333333,
              "#9c179e"
             ],
             [
              0.4444444444444444,
              "#bd3786"
             ],
             [
              0.5555555555555556,
              "#d8576b"
             ],
             [
              0.6666666666666666,
              "#ed7953"
             ],
             [
              0.7777777777777778,
              "#fb9f3a"
             ],
             [
              0.8888888888888888,
              "#fdca26"
             ],
             [
              1,
              "#f0f921"
             ]
            ],
            "type": "heatmapgl"
           }
          ],
          "histogram": [
           {
            "marker": {
             "pattern": {
              "fillmode": "overlay",
              "size": 10,
              "solidity": 0.2
             }
            },
            "type": "histogram"
           }
          ],
          "histogram2d": [
           {
            "colorbar": {
             "outlinewidth": 0,
             "ticks": ""
            },
            "colorscale": [
             [
              0,
              "#0d0887"
             ],
             [
              0.1111111111111111,
              "#46039f"
             ],
             [
              0.2222222222222222,
              "#7201a8"
             ],
             [
              0.3333333333333333,
              "#9c179e"
             ],
             [
              0.4444444444444444,
              "#bd3786"
             ],
             [
              0.5555555555555556,
              "#d8576b"
             ],
             [
              0.6666666666666666,
              "#ed7953"
             ],
             [
              0.7777777777777778,
              "#fb9f3a"
             ],
             [
              0.8888888888888888,
              "#fdca26"
             ],
             [
              1,
              "#f0f921"
             ]
            ],
            "type": "histogram2d"
           }
          ],
          "histogram2dcontour": [
           {
            "colorbar": {
             "outlinewidth": 0,
             "ticks": ""
            },
            "colorscale": [
             [
              0,
              "#0d0887"
             ],
             [
              0.1111111111111111,
              "#46039f"
             ],
             [
              0.2222222222222222,
              "#7201a8"
             ],
             [
              0.3333333333333333,
              "#9c179e"
             ],
             [
              0.4444444444444444,
              "#bd3786"
             ],
             [
              0.5555555555555556,
              "#d8576b"
             ],
             [
              0.6666666666666666,
              "#ed7953"
             ],
             [
              0.7777777777777778,
              "#fb9f3a"
             ],
             [
              0.8888888888888888,
              "#fdca26"
             ],
             [
              1,
              "#f0f921"
             ]
            ],
            "type": "histogram2dcontour"
           }
          ],
          "mesh3d": [
           {
            "colorbar": {
             "outlinewidth": 0,
             "ticks": ""
            },
            "type": "mesh3d"
           }
          ],
          "parcoords": [
           {
            "line": {
             "colorbar": {
              "outlinewidth": 0,
              "ticks": ""
             }
            },
            "type": "parcoords"
           }
          ],
          "pie": [
           {
            "automargin": true,
            "type": "pie"
           }
          ],
          "scatter": [
           {
            "fillpattern": {
             "fillmode": "overlay",
             "size": 10,
             "solidity": 0.2
            },
            "type": "scatter"
           }
          ],
          "scatter3d": [
           {
            "line": {
             "colorbar": {
              "outlinewidth": 0,
              "ticks": ""
             }
            },
            "marker": {
             "colorbar": {
              "outlinewidth": 0,
              "ticks": ""
             }
            },
            "type": "scatter3d"
           }
          ],
          "scattercarpet": [
           {
            "marker": {
             "colorbar": {
              "outlinewidth": 0,
              "ticks": ""
             }
            },
            "type": "scattercarpet"
           }
          ],
          "scattergeo": [
           {
            "marker": {
             "colorbar": {
              "outlinewidth": 0,
              "ticks": ""
             }
            },
            "type": "scattergeo"
           }
          ],
          "scattergl": [
           {
            "marker": {
             "colorbar": {
              "outlinewidth": 0,
              "ticks": ""
             }
            },
            "type": "scattergl"
           }
          ],
          "scattermapbox": [
           {
            "marker": {
             "colorbar": {
              "outlinewidth": 0,
              "ticks": ""
             }
            },
            "type": "scattermapbox"
           }
          ],
          "scatterpolar": [
           {
            "marker": {
             "colorbar": {
              "outlinewidth": 0,
              "ticks": ""
             }
            },
            "type": "scatterpolar"
           }
          ],
          "scatterpolargl": [
           {
            "marker": {
             "colorbar": {
              "outlinewidth": 0,
              "ticks": ""
             }
            },
            "type": "scatterpolargl"
           }
          ],
          "scatterternary": [
           {
            "marker": {
             "colorbar": {
              "outlinewidth": 0,
              "ticks": ""
             }
            },
            "type": "scatterternary"
           }
          ],
          "surface": [
           {
            "colorbar": {
             "outlinewidth": 0,
             "ticks": ""
            },
            "colorscale": [
             [
              0,
              "#0d0887"
             ],
             [
              0.1111111111111111,
              "#46039f"
             ],
             [
              0.2222222222222222,
              "#7201a8"
             ],
             [
              0.3333333333333333,
              "#9c179e"
             ],
             [
              0.4444444444444444,
              "#bd3786"
             ],
             [
              0.5555555555555556,
              "#d8576b"
             ],
             [
              0.6666666666666666,
              "#ed7953"
             ],
             [
              0.7777777777777778,
              "#fb9f3a"
             ],
             [
              0.8888888888888888,
              "#fdca26"
             ],
             [
              1,
              "#f0f921"
             ]
            ],
            "type": "surface"
           }
          ],
          "table": [
           {
            "cells": {
             "fill": {
              "color": "#EBF0F8"
             },
             "line": {
              "color": "white"
             }
            },
            "header": {
             "fill": {
              "color": "#C8D4E3"
             },
             "line": {
              "color": "white"
             }
            },
            "type": "table"
           }
          ]
         },
         "layout": {
          "annotationdefaults": {
           "arrowcolor": "#2a3f5f",
           "arrowhead": 0,
           "arrowwidth": 1
          },
          "autotypenumbers": "strict",
          "coloraxis": {
           "colorbar": {
            "outlinewidth": 0,
            "ticks": ""
           }
          },
          "colorscale": {
           "diverging": [
            [
             0,
             "#8e0152"
            ],
            [
             0.1,
             "#c51b7d"
            ],
            [
             0.2,
             "#de77ae"
            ],
            [
             0.3,
             "#f1b6da"
            ],
            [
             0.4,
             "#fde0ef"
            ],
            [
             0.5,
             "#f7f7f7"
            ],
            [
             0.6,
             "#e6f5d0"
            ],
            [
             0.7,
             "#b8e186"
            ],
            [
             0.8,
             "#7fbc41"
            ],
            [
             0.9,
             "#4d9221"
            ],
            [
             1,
             "#276419"
            ]
           ],
           "sequential": [
            [
             0,
             "#0d0887"
            ],
            [
             0.1111111111111111,
             "#46039f"
            ],
            [
             0.2222222222222222,
             "#7201a8"
            ],
            [
             0.3333333333333333,
             "#9c179e"
            ],
            [
             0.4444444444444444,
             "#bd3786"
            ],
            [
             0.5555555555555556,
             "#d8576b"
            ],
            [
             0.6666666666666666,
             "#ed7953"
            ],
            [
             0.7777777777777778,
             "#fb9f3a"
            ],
            [
             0.8888888888888888,
             "#fdca26"
            ],
            [
             1,
             "#f0f921"
            ]
           ],
           "sequentialminus": [
            [
             0,
             "#0d0887"
            ],
            [
             0.1111111111111111,
             "#46039f"
            ],
            [
             0.2222222222222222,
             "#7201a8"
            ],
            [
             0.3333333333333333,
             "#9c179e"
            ],
            [
             0.4444444444444444,
             "#bd3786"
            ],
            [
             0.5555555555555556,
             "#d8576b"
            ],
            [
             0.6666666666666666,
             "#ed7953"
            ],
            [
             0.7777777777777778,
             "#fb9f3a"
            ],
            [
             0.8888888888888888,
             "#fdca26"
            ],
            [
             1,
             "#f0f921"
            ]
           ]
          },
          "colorway": [
           "#636efa",
           "#EF553B",
           "#00cc96",
           "#ab63fa",
           "#FFA15A",
           "#19d3f3",
           "#FF6692",
           "#B6E880",
           "#FF97FF",
           "#FECB52"
          ],
          "font": {
           "color": "#2a3f5f"
          },
          "geo": {
           "bgcolor": "white",
           "lakecolor": "white",
           "landcolor": "#E5ECF6",
           "showlakes": true,
           "showland": true,
           "subunitcolor": "white"
          },
          "hoverlabel": {
           "align": "left"
          },
          "hovermode": "closest",
          "mapbox": {
           "style": "light"
          },
          "paper_bgcolor": "white",
          "plot_bgcolor": "#E5ECF6",
          "polar": {
           "angularaxis": {
            "gridcolor": "white",
            "linecolor": "white",
            "ticks": ""
           },
           "bgcolor": "#E5ECF6",
           "radialaxis": {
            "gridcolor": "white",
            "linecolor": "white",
            "ticks": ""
           }
          },
          "scene": {
           "xaxis": {
            "backgroundcolor": "#E5ECF6",
            "gridcolor": "white",
            "gridwidth": 2,
            "linecolor": "white",
            "showbackground": true,
            "ticks": "",
            "zerolinecolor": "white"
           },
           "yaxis": {
            "backgroundcolor": "#E5ECF6",
            "gridcolor": "white",
            "gridwidth": 2,
            "linecolor": "white",
            "showbackground": true,
            "ticks": "",
            "zerolinecolor": "white"
           },
           "zaxis": {
            "backgroundcolor": "#E5ECF6",
            "gridcolor": "white",
            "gridwidth": 2,
            "linecolor": "white",
            "showbackground": true,
            "ticks": "",
            "zerolinecolor": "white"
           }
          },
          "shapedefaults": {
           "line": {
            "color": "#2a3f5f"
           }
          },
          "ternary": {
           "aaxis": {
            "gridcolor": "white",
            "linecolor": "white",
            "ticks": ""
           },
           "baxis": {
            "gridcolor": "white",
            "linecolor": "white",
            "ticks": ""
           },
           "bgcolor": "#E5ECF6",
           "caxis": {
            "gridcolor": "white",
            "linecolor": "white",
            "ticks": ""
           }
          },
          "title": {
           "x": 0.05
          },
          "xaxis": {
           "automargin": true,
           "gridcolor": "white",
           "linecolor": "white",
           "ticks": "",
           "title": {
            "standoff": 15
           },
           "zerolinecolor": "white",
           "zerolinewidth": 2
          },
          "yaxis": {
           "automargin": true,
           "gridcolor": "white",
           "linecolor": "white",
           "ticks": "",
           "title": {
            "standoff": 15
           },
           "zerolinecolor": "white",
           "zerolinewidth": 2
          }
         }
        }
       }
      }
     },
     "metadata": {},
     "output_type": "display_data"
    }
   ],
   "source": [
    "fig = go.Figure(go.Treemap(\n",
    "    labels = gb_age['age_group'],\n",
    "    parents = [\"\"] * len(gb_age),\n",
    "    values = gb_age['ID'],\n",
    "    texttemplate=\"%{label}<br>%{value}<br>%{percentParent:.2%},\",\n",
    "    marker=dict(colors=[\"yellow\", \"blackblue\", \"lightcoral\", \"lightgreen\"]),  # Set lighter colors\n",
    "    textfont=dict(size=19, color=\"black\", family=\"Arial Black\")\n",
    "    # texttemplate=\"%{label}<br>%{value}<br>%{percentParent:.2f}%\"\n",
    "))\n",
    "\n",
    "fig.update_layout(margin=dict(t=0, l=0, r=0, b=0))\n",
    "\n",
    "fig.show()"
   ]
  },
  {
   "cell_type": "code",
   "execution_count": 17,
   "metadata": {},
   "outputs": [
    {
     "data": {
      "text/html": [
       "<div>\n",
       "<style scoped>\n",
       "    .dataframe tbody tr th:only-of-type {\n",
       "        vertical-align: middle;\n",
       "    }\n",
       "\n",
       "    .dataframe tbody tr th {\n",
       "        vertical-align: top;\n",
       "    }\n",
       "\n",
       "    .dataframe thead th {\n",
       "        text-align: right;\n",
       "    }\n",
       "</style>\n",
       "<table border=\"1\" class=\"dataframe\">\n",
       "  <thead>\n",
       "    <tr style=\"text-align: right;\">\n",
       "      <th></th>\n",
       "      <th>Marital_Status</th>\n",
       "      <th>ID</th>\n",
       "    </tr>\n",
       "  </thead>\n",
       "  <tbody>\n",
       "    <tr>\n",
       "      <th>0</th>\n",
       "      <td>Absurd</td>\n",
       "      <td>2</td>\n",
       "    </tr>\n",
       "    <tr>\n",
       "      <th>1</th>\n",
       "      <td>Alone</td>\n",
       "      <td>3</td>\n",
       "    </tr>\n",
       "    <tr>\n",
       "      <th>2</th>\n",
       "      <td>Divorced</td>\n",
       "      <td>231</td>\n",
       "    </tr>\n",
       "    <tr>\n",
       "      <th>3</th>\n",
       "      <td>Married</td>\n",
       "      <td>857</td>\n",
       "    </tr>\n",
       "    <tr>\n",
       "      <th>4</th>\n",
       "      <td>Single</td>\n",
       "      <td>469</td>\n",
       "    </tr>\n",
       "    <tr>\n",
       "      <th>5</th>\n",
       "      <td>Together</td>\n",
       "      <td>572</td>\n",
       "    </tr>\n",
       "    <tr>\n",
       "      <th>6</th>\n",
       "      <td>Widow</td>\n",
       "      <td>76</td>\n",
       "    </tr>\n",
       "    <tr>\n",
       "      <th>7</th>\n",
       "      <td>YOLO</td>\n",
       "      <td>2</td>\n",
       "    </tr>\n",
       "  </tbody>\n",
       "</table>\n",
       "</div>"
      ],
      "text/plain": [
       "  Marital_Status   ID\n",
       "0         Absurd    2\n",
       "1          Alone    3\n",
       "2       Divorced  231\n",
       "3        Married  857\n",
       "4         Single  469\n",
       "5       Together  572\n",
       "6          Widow   76\n",
       "7           YOLO    2"
      ]
     },
     "execution_count": 17,
     "metadata": {},
     "output_type": "execute_result"
    }
   ],
   "source": [
    "gb_m = df.groupby('Marital_Status').agg({'ID':'count'}).reset_index()\n",
    "gb_m"
   ]
  },
  {
   "cell_type": "code",
   "execution_count": 18,
   "metadata": {},
   "outputs": [
    {
     "data": {
      "application/vnd.plotly.v1+json": {
       "config": {
        "plotlyServerURL": "https://plot.ly"
       },
       "data": [
        {
         "labels": [
          "Absurd",
          "Alone",
          "Divorced",
          "Married",
          "Single",
          "Together",
          "Widow",
          "YOLO"
         ],
         "marker": {
          "colors": [
           "yellow",
           "blackblue",
           "lightcoral",
           "lightgreen"
          ]
         },
         "parents": [
          "",
          "",
          "",
          "",
          "",
          "",
          "",
          ""
         ],
         "textfont": {
          "color": "black",
          "family": "Arial Black",
          "size": 19
         },
         "texttemplate": "%{label}<br>%{value}<br>%{percentParent:.2%},",
         "type": "treemap",
         "values": [
          2,
          3,
          231,
          857,
          469,
          572,
          76,
          2
         ]
        }
       ],
       "layout": {
        "margin": {
         "b": 0,
         "l": 0,
         "r": 0,
         "t": 0
        },
        "template": {
         "data": {
          "bar": [
           {
            "error_x": {
             "color": "#2a3f5f"
            },
            "error_y": {
             "color": "#2a3f5f"
            },
            "marker": {
             "line": {
              "color": "#E5ECF6",
              "width": 0.5
             },
             "pattern": {
              "fillmode": "overlay",
              "size": 10,
              "solidity": 0.2
             }
            },
            "type": "bar"
           }
          ],
          "barpolar": [
           {
            "marker": {
             "line": {
              "color": "#E5ECF6",
              "width": 0.5
             },
             "pattern": {
              "fillmode": "overlay",
              "size": 10,
              "solidity": 0.2
             }
            },
            "type": "barpolar"
           }
          ],
          "carpet": [
           {
            "aaxis": {
             "endlinecolor": "#2a3f5f",
             "gridcolor": "white",
             "linecolor": "white",
             "minorgridcolor": "white",
             "startlinecolor": "#2a3f5f"
            },
            "baxis": {
             "endlinecolor": "#2a3f5f",
             "gridcolor": "white",
             "linecolor": "white",
             "minorgridcolor": "white",
             "startlinecolor": "#2a3f5f"
            },
            "type": "carpet"
           }
          ],
          "choropleth": [
           {
            "colorbar": {
             "outlinewidth": 0,
             "ticks": ""
            },
            "type": "choropleth"
           }
          ],
          "contour": [
           {
            "colorbar": {
             "outlinewidth": 0,
             "ticks": ""
            },
            "colorscale": [
             [
              0,
              "#0d0887"
             ],
             [
              0.1111111111111111,
              "#46039f"
             ],
             [
              0.2222222222222222,
              "#7201a8"
             ],
             [
              0.3333333333333333,
              "#9c179e"
             ],
             [
              0.4444444444444444,
              "#bd3786"
             ],
             [
              0.5555555555555556,
              "#d8576b"
             ],
             [
              0.6666666666666666,
              "#ed7953"
             ],
             [
              0.7777777777777778,
              "#fb9f3a"
             ],
             [
              0.8888888888888888,
              "#fdca26"
             ],
             [
              1,
              "#f0f921"
             ]
            ],
            "type": "contour"
           }
          ],
          "contourcarpet": [
           {
            "colorbar": {
             "outlinewidth": 0,
             "ticks": ""
            },
            "type": "contourcarpet"
           }
          ],
          "heatmap": [
           {
            "colorbar": {
             "outlinewidth": 0,
             "ticks": ""
            },
            "colorscale": [
             [
              0,
              "#0d0887"
             ],
             [
              0.1111111111111111,
              "#46039f"
             ],
             [
              0.2222222222222222,
              "#7201a8"
             ],
             [
              0.3333333333333333,
              "#9c179e"
             ],
             [
              0.4444444444444444,
              "#bd3786"
             ],
             [
              0.5555555555555556,
              "#d8576b"
             ],
             [
              0.6666666666666666,
              "#ed7953"
             ],
             [
              0.7777777777777778,
              "#fb9f3a"
             ],
             [
              0.8888888888888888,
              "#fdca26"
             ],
             [
              1,
              "#f0f921"
             ]
            ],
            "type": "heatmap"
           }
          ],
          "heatmapgl": [
           {
            "colorbar": {
             "outlinewidth": 0,
             "ticks": ""
            },
            "colorscale": [
             [
              0,
              "#0d0887"
             ],
             [
              0.1111111111111111,
              "#46039f"
             ],
             [
              0.2222222222222222,
              "#7201a8"
             ],
             [
              0.3333333333333333,
              "#9c179e"
             ],
             [
              0.4444444444444444,
              "#bd3786"
             ],
             [
              0.5555555555555556,
              "#d8576b"
             ],
             [
              0.6666666666666666,
              "#ed7953"
             ],
             [
              0.7777777777777778,
              "#fb9f3a"
             ],
             [
              0.8888888888888888,
              "#fdca26"
             ],
             [
              1,
              "#f0f921"
             ]
            ],
            "type": "heatmapgl"
           }
          ],
          "histogram": [
           {
            "marker": {
             "pattern": {
              "fillmode": "overlay",
              "size": 10,
              "solidity": 0.2
             }
            },
            "type": "histogram"
           }
          ],
          "histogram2d": [
           {
            "colorbar": {
             "outlinewidth": 0,
             "ticks": ""
            },
            "colorscale": [
             [
              0,
              "#0d0887"
             ],
             [
              0.1111111111111111,
              "#46039f"
             ],
             [
              0.2222222222222222,
              "#7201a8"
             ],
             [
              0.3333333333333333,
              "#9c179e"
             ],
             [
              0.4444444444444444,
              "#bd3786"
             ],
             [
              0.5555555555555556,
              "#d8576b"
             ],
             [
              0.6666666666666666,
              "#ed7953"
             ],
             [
              0.7777777777777778,
              "#fb9f3a"
             ],
             [
              0.8888888888888888,
              "#fdca26"
             ],
             [
              1,
              "#f0f921"
             ]
            ],
            "type": "histogram2d"
           }
          ],
          "histogram2dcontour": [
           {
            "colorbar": {
             "outlinewidth": 0,
             "ticks": ""
            },
            "colorscale": [
             [
              0,
              "#0d0887"
             ],
             [
              0.1111111111111111,
              "#46039f"
             ],
             [
              0.2222222222222222,
              "#7201a8"
             ],
             [
              0.3333333333333333,
              "#9c179e"
             ],
             [
              0.4444444444444444,
              "#bd3786"
             ],
             [
              0.5555555555555556,
              "#d8576b"
             ],
             [
              0.6666666666666666,
              "#ed7953"
             ],
             [
              0.7777777777777778,
              "#fb9f3a"
             ],
             [
              0.8888888888888888,
              "#fdca26"
             ],
             [
              1,
              "#f0f921"
             ]
            ],
            "type": "histogram2dcontour"
           }
          ],
          "mesh3d": [
           {
            "colorbar": {
             "outlinewidth": 0,
             "ticks": ""
            },
            "type": "mesh3d"
           }
          ],
          "parcoords": [
           {
            "line": {
             "colorbar": {
              "outlinewidth": 0,
              "ticks": ""
             }
            },
            "type": "parcoords"
           }
          ],
          "pie": [
           {
            "automargin": true,
            "type": "pie"
           }
          ],
          "scatter": [
           {
            "fillpattern": {
             "fillmode": "overlay",
             "size": 10,
             "solidity": 0.2
            },
            "type": "scatter"
           }
          ],
          "scatter3d": [
           {
            "line": {
             "colorbar": {
              "outlinewidth": 0,
              "ticks": ""
             }
            },
            "marker": {
             "colorbar": {
              "outlinewidth": 0,
              "ticks": ""
             }
            },
            "type": "scatter3d"
           }
          ],
          "scattercarpet": [
           {
            "marker": {
             "colorbar": {
              "outlinewidth": 0,
              "ticks": ""
             }
            },
            "type": "scattercarpet"
           }
          ],
          "scattergeo": [
           {
            "marker": {
             "colorbar": {
              "outlinewidth": 0,
              "ticks": ""
             }
            },
            "type": "scattergeo"
           }
          ],
          "scattergl": [
           {
            "marker": {
             "colorbar": {
              "outlinewidth": 0,
              "ticks": ""
             }
            },
            "type": "scattergl"
           }
          ],
          "scattermapbox": [
           {
            "marker": {
             "colorbar": {
              "outlinewidth": 0,
              "ticks": ""
             }
            },
            "type": "scattermapbox"
           }
          ],
          "scatterpolar": [
           {
            "marker": {
             "colorbar": {
              "outlinewidth": 0,
              "ticks": ""
             }
            },
            "type": "scatterpolar"
           }
          ],
          "scatterpolargl": [
           {
            "marker": {
             "colorbar": {
              "outlinewidth": 0,
              "ticks": ""
             }
            },
            "type": "scatterpolargl"
           }
          ],
          "scatterternary": [
           {
            "marker": {
             "colorbar": {
              "outlinewidth": 0,
              "ticks": ""
             }
            },
            "type": "scatterternary"
           }
          ],
          "surface": [
           {
            "colorbar": {
             "outlinewidth": 0,
             "ticks": ""
            },
            "colorscale": [
             [
              0,
              "#0d0887"
             ],
             [
              0.1111111111111111,
              "#46039f"
             ],
             [
              0.2222222222222222,
              "#7201a8"
             ],
             [
              0.3333333333333333,
              "#9c179e"
             ],
             [
              0.4444444444444444,
              "#bd3786"
             ],
             [
              0.5555555555555556,
              "#d8576b"
             ],
             [
              0.6666666666666666,
              "#ed7953"
             ],
             [
              0.7777777777777778,
              "#fb9f3a"
             ],
             [
              0.8888888888888888,
              "#fdca26"
             ],
             [
              1,
              "#f0f921"
             ]
            ],
            "type": "surface"
           }
          ],
          "table": [
           {
            "cells": {
             "fill": {
              "color": "#EBF0F8"
             },
             "line": {
              "color": "white"
             }
            },
            "header": {
             "fill": {
              "color": "#C8D4E3"
             },
             "line": {
              "color": "white"
             }
            },
            "type": "table"
           }
          ]
         },
         "layout": {
          "annotationdefaults": {
           "arrowcolor": "#2a3f5f",
           "arrowhead": 0,
           "arrowwidth": 1
          },
          "autotypenumbers": "strict",
          "coloraxis": {
           "colorbar": {
            "outlinewidth": 0,
            "ticks": ""
           }
          },
          "colorscale": {
           "diverging": [
            [
             0,
             "#8e0152"
            ],
            [
             0.1,
             "#c51b7d"
            ],
            [
             0.2,
             "#de77ae"
            ],
            [
             0.3,
             "#f1b6da"
            ],
            [
             0.4,
             "#fde0ef"
            ],
            [
             0.5,
             "#f7f7f7"
            ],
            [
             0.6,
             "#e6f5d0"
            ],
            [
             0.7,
             "#b8e186"
            ],
            [
             0.8,
             "#7fbc41"
            ],
            [
             0.9,
             "#4d9221"
            ],
            [
             1,
             "#276419"
            ]
           ],
           "sequential": [
            [
             0,
             "#0d0887"
            ],
            [
             0.1111111111111111,
             "#46039f"
            ],
            [
             0.2222222222222222,
             "#7201a8"
            ],
            [
             0.3333333333333333,
             "#9c179e"
            ],
            [
             0.4444444444444444,
             "#bd3786"
            ],
            [
             0.5555555555555556,
             "#d8576b"
            ],
            [
             0.6666666666666666,
             "#ed7953"
            ],
            [
             0.7777777777777778,
             "#fb9f3a"
            ],
            [
             0.8888888888888888,
             "#fdca26"
            ],
            [
             1,
             "#f0f921"
            ]
           ],
           "sequentialminus": [
            [
             0,
             "#0d0887"
            ],
            [
             0.1111111111111111,
             "#46039f"
            ],
            [
             0.2222222222222222,
             "#7201a8"
            ],
            [
             0.3333333333333333,
             "#9c179e"
            ],
            [
             0.4444444444444444,
             "#bd3786"
            ],
            [
             0.5555555555555556,
             "#d8576b"
            ],
            [
             0.6666666666666666,
             "#ed7953"
            ],
            [
             0.7777777777777778,
             "#fb9f3a"
            ],
            [
             0.8888888888888888,
             "#fdca26"
            ],
            [
             1,
             "#f0f921"
            ]
           ]
          },
          "colorway": [
           "#636efa",
           "#EF553B",
           "#00cc96",
           "#ab63fa",
           "#FFA15A",
           "#19d3f3",
           "#FF6692",
           "#B6E880",
           "#FF97FF",
           "#FECB52"
          ],
          "font": {
           "color": "#2a3f5f"
          },
          "geo": {
           "bgcolor": "white",
           "lakecolor": "white",
           "landcolor": "#E5ECF6",
           "showlakes": true,
           "showland": true,
           "subunitcolor": "white"
          },
          "hoverlabel": {
           "align": "left"
          },
          "hovermode": "closest",
          "mapbox": {
           "style": "light"
          },
          "paper_bgcolor": "white",
          "plot_bgcolor": "#E5ECF6",
          "polar": {
           "angularaxis": {
            "gridcolor": "white",
            "linecolor": "white",
            "ticks": ""
           },
           "bgcolor": "#E5ECF6",
           "radialaxis": {
            "gridcolor": "white",
            "linecolor": "white",
            "ticks": ""
           }
          },
          "scene": {
           "xaxis": {
            "backgroundcolor": "#E5ECF6",
            "gridcolor": "white",
            "gridwidth": 2,
            "linecolor": "white",
            "showbackground": true,
            "ticks": "",
            "zerolinecolor": "white"
           },
           "yaxis": {
            "backgroundcolor": "#E5ECF6",
            "gridcolor": "white",
            "gridwidth": 2,
            "linecolor": "white",
            "showbackground": true,
            "ticks": "",
            "zerolinecolor": "white"
           },
           "zaxis": {
            "backgroundcolor": "#E5ECF6",
            "gridcolor": "white",
            "gridwidth": 2,
            "linecolor": "white",
            "showbackground": true,
            "ticks": "",
            "zerolinecolor": "white"
           }
          },
          "shapedefaults": {
           "line": {
            "color": "#2a3f5f"
           }
          },
          "ternary": {
           "aaxis": {
            "gridcolor": "white",
            "linecolor": "white",
            "ticks": ""
           },
           "baxis": {
            "gridcolor": "white",
            "linecolor": "white",
            "ticks": ""
           },
           "bgcolor": "#E5ECF6",
           "caxis": {
            "gridcolor": "white",
            "linecolor": "white",
            "ticks": ""
           }
          },
          "title": {
           "x": 0.05
          },
          "xaxis": {
           "automargin": true,
           "gridcolor": "white",
           "linecolor": "white",
           "ticks": "",
           "title": {
            "standoff": 15
           },
           "zerolinecolor": "white",
           "zerolinewidth": 2
          },
          "yaxis": {
           "automargin": true,
           "gridcolor": "white",
           "linecolor": "white",
           "ticks": "",
           "title": {
            "standoff": 15
           },
           "zerolinecolor": "white",
           "zerolinewidth": 2
          }
         }
        }
       }
      }
     },
     "metadata": {},
     "output_type": "display_data"
    }
   ],
   "source": [
    "import plotly.graph_objects as go\n",
    "\n",
    "fig = go.Figure(go.Treemap(\n",
    "    labels = gb_m['Marital_Status'],\n",
    "    parents = [\"\"] * len(gb_m),\n",
    "    values = gb_m['ID'],\n",
    "    texttemplate=\"%{label}<br>%{value}<br>%{percentParent:.2%},\",\n",
    "    marker=dict(colors=[\"yellow\", \"blackblue\", \"lightcoral\", \"lightgreen\"]),  # Set lighter colors\n",
    "    textfont=dict(size=19, color=\"black\", family=\"Arial Black\")\n",
    "    # texttemplate=\"%{label}<br>%{value}<br>%{percentParent:.2f}%\"\n",
    "))\n",
    "\n",
    "fig.update_layout(margin=dict(t=0, l=0, r=0, b=0))\n",
    "\n",
    "fig.show()"
   ]
  },
  {
   "cell_type": "code",
   "execution_count": 19,
   "metadata": {},
   "outputs": [
    {
     "data": {
      "text/plain": [
       "1941"
      ]
     },
     "execution_count": 19,
     "metadata": {},
     "output_type": "execute_result"
    }
   ],
   "source": [
    "min(df['Year_Birth'].unique())"
   ]
  },
  {
   "cell_type": "code",
   "execution_count": 20,
   "metadata": {},
   "outputs": [
    {
     "data": {
      "text/html": [
       "<div>\n",
       "<style scoped>\n",
       "    .dataframe tbody tr th:only-of-type {\n",
       "        vertical-align: middle;\n",
       "    }\n",
       "\n",
       "    .dataframe tbody tr th {\n",
       "        vertical-align: top;\n",
       "    }\n",
       "\n",
       "    .dataframe thead th {\n",
       "        text-align: right;\n",
       "    }\n",
       "</style>\n",
       "<table border=\"1\" class=\"dataframe\">\n",
       "  <thead>\n",
       "    <tr style=\"text-align: right;\">\n",
       "      <th></th>\n",
       "      <th>ID</th>\n",
       "      <th>Year_Birth</th>\n",
       "      <th>Education</th>\n",
       "      <th>Marital_Status</th>\n",
       "      <th>Income</th>\n",
       "      <th>Kidhome</th>\n",
       "      <th>Teenhome</th>\n",
       "      <th>Recency</th>\n",
       "      <th>MntWines</th>\n",
       "      <th>MntFruits</th>\n",
       "      <th>...</th>\n",
       "      <th>Complain</th>\n",
       "      <th>Z_CostContact</th>\n",
       "      <th>Z_Revenue</th>\n",
       "      <th>Response</th>\n",
       "      <th>Dt_Customer_month</th>\n",
       "      <th>Dt_Customer_year</th>\n",
       "      <th>Dt_Customer_seconds</th>\n",
       "      <th>age_group</th>\n",
       "      <th>sum_amount</th>\n",
       "      <th>count_trx</th>\n",
       "    </tr>\n",
       "  </thead>\n",
       "  <tbody>\n",
       "    <tr>\n",
       "      <th>0</th>\n",
       "      <td>5524</td>\n",
       "      <td>1957</td>\n",
       "      <td>Graduation</td>\n",
       "      <td>Single</td>\n",
       "      <td>58138.0</td>\n",
       "      <td>0</td>\n",
       "      <td>0</td>\n",
       "      <td>58</td>\n",
       "      <td>635</td>\n",
       "      <td>88</td>\n",
       "      <td>...</td>\n",
       "      <td>0</td>\n",
       "      <td>3</td>\n",
       "      <td>11</td>\n",
       "      <td>1</td>\n",
       "      <td>9</td>\n",
       "      <td>2012</td>\n",
       "      <td>1346716800</td>\n",
       "      <td>baby_boomer</td>\n",
       "      <td>1617</td>\n",
       "      <td>32</td>\n",
       "    </tr>\n",
       "    <tr>\n",
       "      <th>1</th>\n",
       "      <td>2174</td>\n",
       "      <td>1954</td>\n",
       "      <td>Graduation</td>\n",
       "      <td>Single</td>\n",
       "      <td>46344.0</td>\n",
       "      <td>1</td>\n",
       "      <td>1</td>\n",
       "      <td>38</td>\n",
       "      <td>11</td>\n",
       "      <td>1</td>\n",
       "      <td>...</td>\n",
       "      <td>0</td>\n",
       "      <td>3</td>\n",
       "      <td>11</td>\n",
       "      <td>0</td>\n",
       "      <td>3</td>\n",
       "      <td>2014</td>\n",
       "      <td>1394236800</td>\n",
       "      <td>baby_boomer</td>\n",
       "      <td>27</td>\n",
       "      <td>11</td>\n",
       "    </tr>\n",
       "    <tr>\n",
       "      <th>2</th>\n",
       "      <td>4141</td>\n",
       "      <td>1965</td>\n",
       "      <td>Graduation</td>\n",
       "      <td>Together</td>\n",
       "      <td>71613.0</td>\n",
       "      <td>0</td>\n",
       "      <td>0</td>\n",
       "      <td>26</td>\n",
       "      <td>426</td>\n",
       "      <td>49</td>\n",
       "      <td>...</td>\n",
       "      <td>0</td>\n",
       "      <td>3</td>\n",
       "      <td>11</td>\n",
       "      <td>0</td>\n",
       "      <td>8</td>\n",
       "      <td>2013</td>\n",
       "      <td>1377043200</td>\n",
       "      <td>generation_x</td>\n",
       "      <td>776</td>\n",
       "      <td>25</td>\n",
       "    </tr>\n",
       "    <tr>\n",
       "      <th>3</th>\n",
       "      <td>6182</td>\n",
       "      <td>1984</td>\n",
       "      <td>Graduation</td>\n",
       "      <td>Together</td>\n",
       "      <td>26646.0</td>\n",
       "      <td>1</td>\n",
       "      <td>0</td>\n",
       "      <td>26</td>\n",
       "      <td>11</td>\n",
       "      <td>4</td>\n",
       "      <td>...</td>\n",
       "      <td>0</td>\n",
       "      <td>3</td>\n",
       "      <td>11</td>\n",
       "      <td>0</td>\n",
       "      <td>2</td>\n",
       "      <td>2014</td>\n",
       "      <td>1391990400</td>\n",
       "      <td>millenial</td>\n",
       "      <td>53</td>\n",
       "      <td>14</td>\n",
       "    </tr>\n",
       "    <tr>\n",
       "      <th>4</th>\n",
       "      <td>5324</td>\n",
       "      <td>1981</td>\n",
       "      <td>PhD</td>\n",
       "      <td>Married</td>\n",
       "      <td>58293.0</td>\n",
       "      <td>1</td>\n",
       "      <td>0</td>\n",
       "      <td>94</td>\n",
       "      <td>173</td>\n",
       "      <td>43</td>\n",
       "      <td>...</td>\n",
       "      <td>0</td>\n",
       "      <td>3</td>\n",
       "      <td>11</td>\n",
       "      <td>0</td>\n",
       "      <td>1</td>\n",
       "      <td>2014</td>\n",
       "      <td>1390089600</td>\n",
       "      <td>millenial</td>\n",
       "      <td>422</td>\n",
       "      <td>24</td>\n",
       "    </tr>\n",
       "    <tr>\n",
       "      <th>...</th>\n",
       "      <td>...</td>\n",
       "      <td>...</td>\n",
       "      <td>...</td>\n",
       "      <td>...</td>\n",
       "      <td>...</td>\n",
       "      <td>...</td>\n",
       "      <td>...</td>\n",
       "      <td>...</td>\n",
       "      <td>...</td>\n",
       "      <td>...</td>\n",
       "      <td>...</td>\n",
       "      <td>...</td>\n",
       "      <td>...</td>\n",
       "      <td>...</td>\n",
       "      <td>...</td>\n",
       "      <td>...</td>\n",
       "      <td>...</td>\n",
       "      <td>...</td>\n",
       "      <td>...</td>\n",
       "      <td>...</td>\n",
       "      <td>...</td>\n",
       "    </tr>\n",
       "    <tr>\n",
       "      <th>2235</th>\n",
       "      <td>10870</td>\n",
       "      <td>1967</td>\n",
       "      <td>Graduation</td>\n",
       "      <td>Married</td>\n",
       "      <td>61223.0</td>\n",
       "      <td>0</td>\n",
       "      <td>1</td>\n",
       "      <td>46</td>\n",
       "      <td>709</td>\n",
       "      <td>43</td>\n",
       "      <td>...</td>\n",
       "      <td>0</td>\n",
       "      <td>3</td>\n",
       "      <td>11</td>\n",
       "      <td>0</td>\n",
       "      <td>6</td>\n",
       "      <td>2013</td>\n",
       "      <td>1371081600</td>\n",
       "      <td>generation_x</td>\n",
       "      <td>1341</td>\n",
       "      <td>23</td>\n",
       "    </tr>\n",
       "    <tr>\n",
       "      <th>2236</th>\n",
       "      <td>4001</td>\n",
       "      <td>1946</td>\n",
       "      <td>PhD</td>\n",
       "      <td>Together</td>\n",
       "      <td>64014.0</td>\n",
       "      <td>2</td>\n",
       "      <td>1</td>\n",
       "      <td>56</td>\n",
       "      <td>406</td>\n",
       "      <td>0</td>\n",
       "      <td>...</td>\n",
       "      <td>0</td>\n",
       "      <td>3</td>\n",
       "      <td>11</td>\n",
       "      <td>0</td>\n",
       "      <td>6</td>\n",
       "      <td>2014</td>\n",
       "      <td>1402358400</td>\n",
       "      <td>baby_boomer</td>\n",
       "      <td>444</td>\n",
       "      <td>29</td>\n",
       "    </tr>\n",
       "    <tr>\n",
       "      <th>2237</th>\n",
       "      <td>7270</td>\n",
       "      <td>1981</td>\n",
       "      <td>Graduation</td>\n",
       "      <td>Divorced</td>\n",
       "      <td>56981.0</td>\n",
       "      <td>0</td>\n",
       "      <td>0</td>\n",
       "      <td>91</td>\n",
       "      <td>908</td>\n",
       "      <td>48</td>\n",
       "      <td>...</td>\n",
       "      <td>0</td>\n",
       "      <td>3</td>\n",
       "      <td>11</td>\n",
       "      <td>0</td>\n",
       "      <td>1</td>\n",
       "      <td>2014</td>\n",
       "      <td>1390608000</td>\n",
       "      <td>millenial</td>\n",
       "      <td>1241</td>\n",
       "      <td>25</td>\n",
       "    </tr>\n",
       "    <tr>\n",
       "      <th>2238</th>\n",
       "      <td>8235</td>\n",
       "      <td>1956</td>\n",
       "      <td>Master</td>\n",
       "      <td>Together</td>\n",
       "      <td>69245.0</td>\n",
       "      <td>0</td>\n",
       "      <td>1</td>\n",
       "      <td>8</td>\n",
       "      <td>428</td>\n",
       "      <td>30</td>\n",
       "      <td>...</td>\n",
       "      <td>0</td>\n",
       "      <td>3</td>\n",
       "      <td>11</td>\n",
       "      <td>0</td>\n",
       "      <td>1</td>\n",
       "      <td>2014</td>\n",
       "      <td>1390521600</td>\n",
       "      <td>baby_boomer</td>\n",
       "      <td>843</td>\n",
       "      <td>26</td>\n",
       "    </tr>\n",
       "    <tr>\n",
       "      <th>2239</th>\n",
       "      <td>9405</td>\n",
       "      <td>1954</td>\n",
       "      <td>PhD</td>\n",
       "      <td>Married</td>\n",
       "      <td>52869.0</td>\n",
       "      <td>1</td>\n",
       "      <td>1</td>\n",
       "      <td>40</td>\n",
       "      <td>84</td>\n",
       "      <td>3</td>\n",
       "      <td>...</td>\n",
       "      <td>0</td>\n",
       "      <td>3</td>\n",
       "      <td>11</td>\n",
       "      <td>1</td>\n",
       "      <td>10</td>\n",
       "      <td>2012</td>\n",
       "      <td>1350259200</td>\n",
       "      <td>baby_boomer</td>\n",
       "      <td>172</td>\n",
       "      <td>18</td>\n",
       "    </tr>\n",
       "  </tbody>\n",
       "</table>\n",
       "<p>2212 rows × 34 columns</p>\n",
       "</div>"
      ],
      "text/plain": [
       "         ID  Year_Birth   Education Marital_Status   Income  Kidhome  \\\n",
       "0      5524        1957  Graduation         Single  58138.0        0   \n",
       "1      2174        1954  Graduation         Single  46344.0        1   \n",
       "2      4141        1965  Graduation       Together  71613.0        0   \n",
       "3      6182        1984  Graduation       Together  26646.0        1   \n",
       "4      5324        1981         PhD        Married  58293.0        1   \n",
       "...     ...         ...         ...            ...      ...      ...   \n",
       "2235  10870        1967  Graduation        Married  61223.0        0   \n",
       "2236   4001        1946         PhD       Together  64014.0        2   \n",
       "2237   7270        1981  Graduation       Divorced  56981.0        0   \n",
       "2238   8235        1956      Master       Together  69245.0        0   \n",
       "2239   9405        1954         PhD        Married  52869.0        1   \n",
       "\n",
       "      Teenhome  Recency  MntWines  MntFruits  ...  Complain  Z_CostContact  \\\n",
       "0            0       58       635         88  ...         0              3   \n",
       "1            1       38        11          1  ...         0              3   \n",
       "2            0       26       426         49  ...         0              3   \n",
       "3            0       26        11          4  ...         0              3   \n",
       "4            0       94       173         43  ...         0              3   \n",
       "...        ...      ...       ...        ...  ...       ...            ...   \n",
       "2235         1       46       709         43  ...         0              3   \n",
       "2236         1       56       406          0  ...         0              3   \n",
       "2237         0       91       908         48  ...         0              3   \n",
       "2238         1        8       428         30  ...         0              3   \n",
       "2239         1       40        84          3  ...         0              3   \n",
       "\n",
       "      Z_Revenue  Response  Dt_Customer_month  Dt_Customer_year  \\\n",
       "0            11         1                  9              2012   \n",
       "1            11         0                  3              2014   \n",
       "2            11         0                  8              2013   \n",
       "3            11         0                  2              2014   \n",
       "4            11         0                  1              2014   \n",
       "...         ...       ...                ...               ...   \n",
       "2235         11         0                  6              2013   \n",
       "2236         11         0                  6              2014   \n",
       "2237         11         0                  1              2014   \n",
       "2238         11         0                  1              2014   \n",
       "2239         11         1                 10              2012   \n",
       "\n",
       "      Dt_Customer_seconds     age_group  sum_amount  count_trx  \n",
       "0              1346716800   baby_boomer        1617         32  \n",
       "1              1394236800   baby_boomer          27         11  \n",
       "2              1377043200  generation_x         776         25  \n",
       "3              1391990400     millenial          53         14  \n",
       "4              1390089600     millenial         422         24  \n",
       "...                   ...           ...         ...        ...  \n",
       "2235           1371081600  generation_x        1341         23  \n",
       "2236           1402358400   baby_boomer         444         29  \n",
       "2237           1390608000     millenial        1241         25  \n",
       "2238           1390521600   baby_boomer         843         26  \n",
       "2239           1350259200   baby_boomer         172         18  \n",
       "\n",
       "[2212 rows x 34 columns]"
      ]
     },
     "execution_count": 20,
     "metadata": {},
     "output_type": "execute_result"
    }
   ],
   "source": [
    "df"
   ]
  },
  {
   "cell_type": "code",
   "execution_count": 21,
   "metadata": {},
   "outputs": [],
   "source": [
    "# Calculate RFM values\n",
    "rfm_df = df[['ID', 'Recency', 'count_trx', 'sum_amount']].copy()\n",
    "rfm_df.columns = ['CustomerID', 'Recency', 'Frequency', 'Monetary']\n",
    "\n",
    "# Segmenting customers into quartiles\n",
    "rfm_df['R_quartile'] = pd.qcut(rfm_df['Recency'], 4, ['4','3','2','1']) # Recency: lower quartile is better\n",
    "rfm_df['F_quartile'] = pd.qcut(rfm_df['Frequency'], 4, ['1','2','3','4']) # Frequency: higher quartile is better\n",
    "rfm_df['M_quartile'] = pd.qcut(rfm_df['Monetary'], 4, ['1','2','3','4']) # Monetary: higher quartile is better\n",
    "\n",
    "# Combine RFM quartile values\n",
    "rfm_df['RFM_Segment'] = rfm_df.R_quartile.astype(str) + rfm_df.F_quartile.astype(str) + rfm_df.M_quartile.astype(str)\n",
    "\n",
    "rfm_df['R_quartile'] = rfm_df['R_quartile'].astype(int)\n",
    "rfm_df['F_quartile'] = rfm_df['F_quartile'].astype(int)\n",
    "rfm_df['M_quartile'] = rfm_df['M_quartile'].astype(int)\n",
    "\n",
    "rfm_df['RFM_Score'] = rfm_df[['R_quartile', 'F_quartile', 'M_quartile']].sum(axis=1)\n",
    "\n",
    "# You can now filter or segment customers based on the RFM_Segment or RFM_Score\n",
    "def classify_rfm(row):\n",
    "    R, F, M = row['R_quartile'], row['F_quartile'], row['M_quartile']\n",
    "    \n",
    "    if R == 4 and F == 4 and M == 4:\n",
    "        return 'best cust'\n",
    "    elif F == 4:\n",
    "        return 'loyal cust'\n",
    "    elif R == 4 and M == 4:\n",
    "        return 'potential big spender'\n",
    "    elif M == 4:\n",
    "        return 'need attention big spender'\n",
    "    elif R == 4:\n",
    "        return 'recent customer'\n",
    "    elif R == 1 and F == 1 and M == 1:\n",
    "        return 'lost cheap customer'\n",
    "    elif R == 1:\n",
    "        return 'lost customer'\n",
    "    else:\n",
    "        return 'regular customer'\n",
    "\n",
    "rfm_df['segment'] = rfm_df.apply(classify_rfm, axis=1)"
   ]
  },
  {
   "cell_type": "code",
   "execution_count": 22,
   "metadata": {},
   "outputs": [],
   "source": [
    "df2= df.copy()\n",
    "df2 = pd.merge(df, rfm_df[['CustomerID','R_quartile', 'F_quartile', 'M_quartile','RFM_Segment', 'RFM_Score','segment' ]], how='left', left_on = 'ID', right_on = 'CustomerID')"
   ]
  },
  {
   "cell_type": "code",
   "execution_count": 23,
   "metadata": {},
   "outputs": [
    {
     "data": {
      "text/html": [
       "<div>\n",
       "<style scoped>\n",
       "    .dataframe tbody tr th:only-of-type {\n",
       "        vertical-align: middle;\n",
       "    }\n",
       "\n",
       "    .dataframe tbody tr th {\n",
       "        vertical-align: top;\n",
       "    }\n",
       "\n",
       "    .dataframe thead th {\n",
       "        text-align: right;\n",
       "    }\n",
       "</style>\n",
       "<table border=\"1\" class=\"dataframe\">\n",
       "  <thead>\n",
       "    <tr style=\"text-align: right;\">\n",
       "      <th></th>\n",
       "      <th>ID</th>\n",
       "      <th>Year_Birth</th>\n",
       "      <th>Education</th>\n",
       "      <th>Marital_Status</th>\n",
       "      <th>Income</th>\n",
       "      <th>Kidhome</th>\n",
       "      <th>Teenhome</th>\n",
       "      <th>Recency</th>\n",
       "      <th>MntWines</th>\n",
       "      <th>MntFruits</th>\n",
       "      <th>...</th>\n",
       "      <th>age_group</th>\n",
       "      <th>sum_amount</th>\n",
       "      <th>count_trx</th>\n",
       "      <th>CustomerID</th>\n",
       "      <th>R_quartile</th>\n",
       "      <th>F_quartile</th>\n",
       "      <th>M_quartile</th>\n",
       "      <th>RFM_Segment</th>\n",
       "      <th>RFM_Score</th>\n",
       "      <th>segment</th>\n",
       "    </tr>\n",
       "  </thead>\n",
       "  <tbody>\n",
       "    <tr>\n",
       "      <th>1985</th>\n",
       "      <td>3599</td>\n",
       "      <td>1970</td>\n",
       "      <td>Graduation</td>\n",
       "      <td>Married</td>\n",
       "      <td>63684.0</td>\n",
       "      <td>0</td>\n",
       "      <td>1</td>\n",
       "      <td>61</td>\n",
       "      <td>575</td>\n",
       "      <td>80</td>\n",
       "      <td>...</td>\n",
       "      <td>generation_x</td>\n",
       "      <td>1464</td>\n",
       "      <td>28</td>\n",
       "      <td>3599</td>\n",
       "      <td>2</td>\n",
       "      <td>4</td>\n",
       "      <td>4</td>\n",
       "      <td>244</td>\n",
       "      <td>10</td>\n",
       "      <td>loyal cust</td>\n",
       "    </tr>\n",
       "    <tr>\n",
       "      <th>2115</th>\n",
       "      <td>7124</td>\n",
       "      <td>1968</td>\n",
       "      <td>Graduation</td>\n",
       "      <td>Divorced</td>\n",
       "      <td>36997.0</td>\n",
       "      <td>1</td>\n",
       "      <td>1</td>\n",
       "      <td>72</td>\n",
       "      <td>43</td>\n",
       "      <td>4</td>\n",
       "      <td>...</td>\n",
       "      <td>generation_x</td>\n",
       "      <td>94</td>\n",
       "      <td>17</td>\n",
       "      <td>7124</td>\n",
       "      <td>2</td>\n",
       "      <td>2</td>\n",
       "      <td>2</td>\n",
       "      <td>222</td>\n",
       "      <td>6</td>\n",
       "      <td>regular customer</td>\n",
       "    </tr>\n",
       "    <tr>\n",
       "      <th>888</th>\n",
       "      <td>6404</td>\n",
       "      <td>1969</td>\n",
       "      <td>Graduation</td>\n",
       "      <td>Together</td>\n",
       "      <td>58917.0</td>\n",
       "      <td>1</td>\n",
       "      <td>2</td>\n",
       "      <td>10</td>\n",
       "      <td>151</td>\n",
       "      <td>7</td>\n",
       "      <td>...</td>\n",
       "      <td>generation_x</td>\n",
       "      <td>282</td>\n",
       "      <td>21</td>\n",
       "      <td>6404</td>\n",
       "      <td>4</td>\n",
       "      <td>3</td>\n",
       "      <td>2</td>\n",
       "      <td>432</td>\n",
       "      <td>9</td>\n",
       "      <td>recent customer</td>\n",
       "    </tr>\n",
       "    <tr>\n",
       "      <th>700</th>\n",
       "      <td>3619</td>\n",
       "      <td>1960</td>\n",
       "      <td>2n Cycle</td>\n",
       "      <td>Divorced</td>\n",
       "      <td>87305.0</td>\n",
       "      <td>0</td>\n",
       "      <td>0</td>\n",
       "      <td>19</td>\n",
       "      <td>345</td>\n",
       "      <td>25</td>\n",
       "      <td>...</td>\n",
       "      <td>baby_boomer</td>\n",
       "      <td>1152</td>\n",
       "      <td>19</td>\n",
       "      <td>3619</td>\n",
       "      <td>4</td>\n",
       "      <td>2</td>\n",
       "      <td>4</td>\n",
       "      <td>424</td>\n",
       "      <td>10</td>\n",
       "      <td>potential big spender</td>\n",
       "    </tr>\n",
       "    <tr>\n",
       "      <th>2095</th>\n",
       "      <td>7532</td>\n",
       "      <td>1980</td>\n",
       "      <td>Graduation</td>\n",
       "      <td>Married</td>\n",
       "      <td>43586.0</td>\n",
       "      <td>0</td>\n",
       "      <td>1</td>\n",
       "      <td>26</td>\n",
       "      <td>99</td>\n",
       "      <td>2</td>\n",
       "      <td>...</td>\n",
       "      <td>millenial</td>\n",
       "      <td>132</td>\n",
       "      <td>18</td>\n",
       "      <td>7532</td>\n",
       "      <td>3</td>\n",
       "      <td>2</td>\n",
       "      <td>2</td>\n",
       "      <td>322</td>\n",
       "      <td>7</td>\n",
       "      <td>regular customer</td>\n",
       "    </tr>\n",
       "  </tbody>\n",
       "</table>\n",
       "<p>5 rows × 41 columns</p>\n",
       "</div>"
      ],
      "text/plain": [
       "        ID  Year_Birth   Education Marital_Status   Income  Kidhome  Teenhome  \\\n",
       "1985  3599        1970  Graduation        Married  63684.0        0         1   \n",
       "2115  7124        1968  Graduation       Divorced  36997.0        1         1   \n",
       "888   6404        1969  Graduation       Together  58917.0        1         2   \n",
       "700   3619        1960    2n Cycle       Divorced  87305.0        0         0   \n",
       "2095  7532        1980  Graduation        Married  43586.0        0         1   \n",
       "\n",
       "      Recency  MntWines  MntFruits  ...     age_group  sum_amount  count_trx  \\\n",
       "1985       61       575         80  ...  generation_x        1464         28   \n",
       "2115       72        43          4  ...  generation_x          94         17   \n",
       "888        10       151          7  ...  generation_x         282         21   \n",
       "700        19       345         25  ...   baby_boomer        1152         19   \n",
       "2095       26        99          2  ...     millenial         132         18   \n",
       "\n",
       "      CustomerID  R_quartile  F_quartile  M_quartile  RFM_Segment  RFM_Score  \\\n",
       "1985        3599           2           4           4          244         10   \n",
       "2115        7124           2           2           2          222          6   \n",
       "888         6404           4           3           2          432          9   \n",
       "700         3619           4           2           4          424         10   \n",
       "2095        7532           3           2           2          322          7   \n",
       "\n",
       "                    segment  \n",
       "1985             loyal cust  \n",
       "2115       regular customer  \n",
       "888         recent customer  \n",
       "700   potential big spender  \n",
       "2095       regular customer  \n",
       "\n",
       "[5 rows x 41 columns]"
      ]
     },
     "execution_count": 23,
     "metadata": {},
     "output_type": "execute_result"
    }
   ],
   "source": [
    "df2.sample(5)"
   ]
  },
  {
   "cell_type": "code",
   "execution_count": 24,
   "metadata": {},
   "outputs": [
    {
     "data": {
      "text/html": [
       "<div>\n",
       "<style scoped>\n",
       "    .dataframe tbody tr th:only-of-type {\n",
       "        vertical-align: middle;\n",
       "    }\n",
       "\n",
       "    .dataframe tbody tr th {\n",
       "        vertical-align: top;\n",
       "    }\n",
       "\n",
       "    .dataframe thead th {\n",
       "        text-align: right;\n",
       "    }\n",
       "</style>\n",
       "<table border=\"1\" class=\"dataframe\">\n",
       "  <thead>\n",
       "    <tr style=\"text-align: right;\">\n",
       "      <th></th>\n",
       "      <th>ID</th>\n",
       "      <th>Year_Birth</th>\n",
       "      <th>Income</th>\n",
       "      <th>Kidhome</th>\n",
       "      <th>Teenhome</th>\n",
       "      <th>Recency</th>\n",
       "      <th>MntWines</th>\n",
       "      <th>MntFruits</th>\n",
       "      <th>MntMeatProducts</th>\n",
       "      <th>MntFishProducts</th>\n",
       "      <th>...</th>\n",
       "      <th>Dt_Customer_month</th>\n",
       "      <th>Dt_Customer_year</th>\n",
       "      <th>Dt_Customer_seconds</th>\n",
       "      <th>sum_amount</th>\n",
       "      <th>count_trx</th>\n",
       "      <th>CustomerID</th>\n",
       "      <th>R_quartile</th>\n",
       "      <th>F_quartile</th>\n",
       "      <th>M_quartile</th>\n",
       "      <th>RFM_Score</th>\n",
       "    </tr>\n",
       "  </thead>\n",
       "  <tbody>\n",
       "    <tr>\n",
       "      <th>count</th>\n",
       "      <td>2212.000000</td>\n",
       "      <td>2212.000000</td>\n",
       "      <td>2212.000000</td>\n",
       "      <td>2212.000000</td>\n",
       "      <td>2212.000000</td>\n",
       "      <td>2212.000000</td>\n",
       "      <td>2212.000000</td>\n",
       "      <td>2212.000000</td>\n",
       "      <td>2212.000000</td>\n",
       "      <td>2212.000000</td>\n",
       "      <td>...</td>\n",
       "      <td>2212.000000</td>\n",
       "      <td>2212.000000</td>\n",
       "      <td>2.212000e+03</td>\n",
       "      <td>2212.000000</td>\n",
       "      <td>2212.000000</td>\n",
       "      <td>2212.000000</td>\n",
       "      <td>2212.000000</td>\n",
       "      <td>2212.000000</td>\n",
       "      <td>2212.000000</td>\n",
       "      <td>2212.000000</td>\n",
       "    </tr>\n",
       "    <tr>\n",
       "      <th>mean</th>\n",
       "      <td>5586.412749</td>\n",
       "      <td>1968.930380</td>\n",
       "      <td>52237.076854</td>\n",
       "      <td>0.442134</td>\n",
       "      <td>0.505877</td>\n",
       "      <td>48.986438</td>\n",
       "      <td>305.226492</td>\n",
       "      <td>26.335895</td>\n",
       "      <td>167.034810</td>\n",
       "      <td>37.652351</td>\n",
       "      <td>...</td>\n",
       "      <td>6.463382</td>\n",
       "      <td>2013.028029</td>\n",
       "      <td>1.373438e+09</td>\n",
       "      <td>607.225136</td>\n",
       "      <td>20.214286</td>\n",
       "      <td>5586.412749</td>\n",
       "      <td>2.512206</td>\n",
       "      <td>2.467450</td>\n",
       "      <td>2.495479</td>\n",
       "      <td>7.475136</td>\n",
       "    </tr>\n",
       "    <tr>\n",
       "      <th>std</th>\n",
       "      <td>3248.472930</td>\n",
       "      <td>11.686685</td>\n",
       "      <td>25184.285561</td>\n",
       "      <td>0.537004</td>\n",
       "      <td>0.544253</td>\n",
       "      <td>28.931145</td>\n",
       "      <td>337.364344</td>\n",
       "      <td>39.740972</td>\n",
       "      <td>224.251065</td>\n",
       "      <td>54.769810</td>\n",
       "      <td>...</td>\n",
       "      <td>3.491933</td>\n",
       "      <td>0.685926</td>\n",
       "      <td>1.749570e+07</td>\n",
       "      <td>602.548859</td>\n",
       "      <td>7.280775</td>\n",
       "      <td>3248.472930</td>\n",
       "      <td>1.115791</td>\n",
       "      <td>1.141435</td>\n",
       "      <td>1.120702</td>\n",
       "      <td>2.385281</td>\n",
       "    </tr>\n",
       "    <tr>\n",
       "      <th>min</th>\n",
       "      <td>0.000000</td>\n",
       "      <td>1941.000000</td>\n",
       "      <td>1730.000000</td>\n",
       "      <td>0.000000</td>\n",
       "      <td>0.000000</td>\n",
       "      <td>0.000000</td>\n",
       "      <td>0.000000</td>\n",
       "      <td>0.000000</td>\n",
       "      <td>0.000000</td>\n",
       "      <td>0.000000</td>\n",
       "      <td>...</td>\n",
       "      <td>1.000000</td>\n",
       "      <td>2012.000000</td>\n",
       "      <td>1.343606e+09</td>\n",
       "      <td>5.000000</td>\n",
       "      <td>0.000000</td>\n",
       "      <td>0.000000</td>\n",
       "      <td>1.000000</td>\n",
       "      <td>1.000000</td>\n",
       "      <td>1.000000</td>\n",
       "      <td>3.000000</td>\n",
       "    </tr>\n",
       "    <tr>\n",
       "      <th>25%</th>\n",
       "      <td>2814.750000</td>\n",
       "      <td>1959.000000</td>\n",
       "      <td>35233.500000</td>\n",
       "      <td>0.000000</td>\n",
       "      <td>0.000000</td>\n",
       "      <td>24.000000</td>\n",
       "      <td>24.000000</td>\n",
       "      <td>2.000000</td>\n",
       "      <td>16.000000</td>\n",
       "      <td>3.000000</td>\n",
       "      <td>...</td>\n",
       "      <td>3.000000</td>\n",
       "      <td>2013.000000</td>\n",
       "      <td>1.358294e+09</td>\n",
       "      <td>69.000000</td>\n",
       "      <td>14.000000</td>\n",
       "      <td>2814.750000</td>\n",
       "      <td>2.000000</td>\n",
       "      <td>1.000000</td>\n",
       "      <td>1.000000</td>\n",
       "      <td>6.000000</td>\n",
       "    </tr>\n",
       "    <tr>\n",
       "      <th>50%</th>\n",
       "      <td>5454.500000</td>\n",
       "      <td>1970.000000</td>\n",
       "      <td>51381.500000</td>\n",
       "      <td>0.000000</td>\n",
       "      <td>0.000000</td>\n",
       "      <td>49.000000</td>\n",
       "      <td>175.500000</td>\n",
       "      <td>8.000000</td>\n",
       "      <td>68.000000</td>\n",
       "      <td>12.000000</td>\n",
       "      <td>...</td>\n",
       "      <td>6.000000</td>\n",
       "      <td>2013.000000</td>\n",
       "      <td>1.373242e+09</td>\n",
       "      <td>397.000000</td>\n",
       "      <td>19.000000</td>\n",
       "      <td>5454.500000</td>\n",
       "      <td>3.000000</td>\n",
       "      <td>2.000000</td>\n",
       "      <td>2.000000</td>\n",
       "      <td>8.000000</td>\n",
       "    </tr>\n",
       "    <tr>\n",
       "      <th>75%</th>\n",
       "      <td>8421.750000</td>\n",
       "      <td>1977.000000</td>\n",
       "      <td>68522.000000</td>\n",
       "      <td>1.000000</td>\n",
       "      <td>1.000000</td>\n",
       "      <td>74.000000</td>\n",
       "      <td>505.000000</td>\n",
       "      <td>33.000000</td>\n",
       "      <td>232.250000</td>\n",
       "      <td>50.000000</td>\n",
       "      <td>...</td>\n",
       "      <td>10.000000</td>\n",
       "      <td>2013.000000</td>\n",
       "      <td>1.388448e+09</td>\n",
       "      <td>1048.000000</td>\n",
       "      <td>25.000000</td>\n",
       "      <td>8421.750000</td>\n",
       "      <td>4.000000</td>\n",
       "      <td>3.000000</td>\n",
       "      <td>3.000000</td>\n",
       "      <td>9.000000</td>\n",
       "    </tr>\n",
       "    <tr>\n",
       "      <th>max</th>\n",
       "      <td>11191.000000</td>\n",
       "      <td>1996.000000</td>\n",
       "      <td>666666.000000</td>\n",
       "      <td>2.000000</td>\n",
       "      <td>2.000000</td>\n",
       "      <td>99.000000</td>\n",
       "      <td>1493.000000</td>\n",
       "      <td>199.000000</td>\n",
       "      <td>1725.000000</td>\n",
       "      <td>259.000000</td>\n",
       "      <td>...</td>\n",
       "      <td>12.000000</td>\n",
       "      <td>2014.000000</td>\n",
       "      <td>1.404000e+09</td>\n",
       "      <td>2525.000000</td>\n",
       "      <td>46.000000</td>\n",
       "      <td>11191.000000</td>\n",
       "      <td>4.000000</td>\n",
       "      <td>4.000000</td>\n",
       "      <td>4.000000</td>\n",
       "      <td>12.000000</td>\n",
       "    </tr>\n",
       "  </tbody>\n",
       "</table>\n",
       "<p>8 rows × 36 columns</p>\n",
       "</div>"
      ],
      "text/plain": [
       "                 ID   Year_Birth         Income      Kidhome     Teenhome  \\\n",
       "count   2212.000000  2212.000000    2212.000000  2212.000000  2212.000000   \n",
       "mean    5586.412749  1968.930380   52237.076854     0.442134     0.505877   \n",
       "std     3248.472930    11.686685   25184.285561     0.537004     0.544253   \n",
       "min        0.000000  1941.000000    1730.000000     0.000000     0.000000   \n",
       "25%     2814.750000  1959.000000   35233.500000     0.000000     0.000000   \n",
       "50%     5454.500000  1970.000000   51381.500000     0.000000     0.000000   \n",
       "75%     8421.750000  1977.000000   68522.000000     1.000000     1.000000   \n",
       "max    11191.000000  1996.000000  666666.000000     2.000000     2.000000   \n",
       "\n",
       "           Recency     MntWines    MntFruits  MntMeatProducts  \\\n",
       "count  2212.000000  2212.000000  2212.000000      2212.000000   \n",
       "mean     48.986438   305.226492    26.335895       167.034810   \n",
       "std      28.931145   337.364344    39.740972       224.251065   \n",
       "min       0.000000     0.000000     0.000000         0.000000   \n",
       "25%      24.000000    24.000000     2.000000        16.000000   \n",
       "50%      49.000000   175.500000     8.000000        68.000000   \n",
       "75%      74.000000   505.000000    33.000000       232.250000   \n",
       "max      99.000000  1493.000000   199.000000      1725.000000   \n",
       "\n",
       "       MntFishProducts  ...  Dt_Customer_month  Dt_Customer_year  \\\n",
       "count      2212.000000  ...        2212.000000       2212.000000   \n",
       "mean         37.652351  ...           6.463382       2013.028029   \n",
       "std          54.769810  ...           3.491933          0.685926   \n",
       "min           0.000000  ...           1.000000       2012.000000   \n",
       "25%           3.000000  ...           3.000000       2013.000000   \n",
       "50%          12.000000  ...           6.000000       2013.000000   \n",
       "75%          50.000000  ...          10.000000       2013.000000   \n",
       "max         259.000000  ...          12.000000       2014.000000   \n",
       "\n",
       "       Dt_Customer_seconds   sum_amount    count_trx    CustomerID  \\\n",
       "count         2.212000e+03  2212.000000  2212.000000   2212.000000   \n",
       "mean          1.373438e+09   607.225136    20.214286   5586.412749   \n",
       "std           1.749570e+07   602.548859     7.280775   3248.472930   \n",
       "min           1.343606e+09     5.000000     0.000000      0.000000   \n",
       "25%           1.358294e+09    69.000000    14.000000   2814.750000   \n",
       "50%           1.373242e+09   397.000000    19.000000   5454.500000   \n",
       "75%           1.388448e+09  1048.000000    25.000000   8421.750000   \n",
       "max           1.404000e+09  2525.000000    46.000000  11191.000000   \n",
       "\n",
       "        R_quartile   F_quartile   M_quartile    RFM_Score  \n",
       "count  2212.000000  2212.000000  2212.000000  2212.000000  \n",
       "mean      2.512206     2.467450     2.495479     7.475136  \n",
       "std       1.115791     1.141435     1.120702     2.385281  \n",
       "min       1.000000     1.000000     1.000000     3.000000  \n",
       "25%       2.000000     1.000000     1.000000     6.000000  \n",
       "50%       3.000000     2.000000     2.000000     8.000000  \n",
       "75%       4.000000     3.000000     3.000000     9.000000  \n",
       "max       4.000000     4.000000     4.000000    12.000000  \n",
       "\n",
       "[8 rows x 36 columns]"
      ]
     },
     "execution_count": 24,
     "metadata": {},
     "output_type": "execute_result"
    }
   ],
   "source": [
    "df2.describe()"
   ]
  },
  {
   "cell_type": "code",
   "execution_count": 25,
   "metadata": {},
   "outputs": [
    {
     "data": {
      "text/plain": [
       "[69.0, 397.0, 1048.0, 2525.0]"
      ]
     },
     "execution_count": 25,
     "metadata": {},
     "output_type": "execute_result"
    }
   ],
   "source": [
    "sum_amt_quart = list(df2['sum_amount'].quantile([0.25, 0.5, 0.75, 1]))\n",
    "count_trx_quart = list(df2['count_trx'].quantile([0.25, 0.5, 0.75, 1]))\n",
    "sum_amt_quart"
   ]
  },
  {
   "cell_type": "code",
   "execution_count": 26,
   "metadata": {},
   "outputs": [
    {
     "data": {
      "text/html": [
       "<div>\n",
       "<style scoped>\n",
       "    .dataframe tbody tr th:only-of-type {\n",
       "        vertical-align: middle;\n",
       "    }\n",
       "\n",
       "    .dataframe tbody tr th {\n",
       "        vertical-align: top;\n",
       "    }\n",
       "\n",
       "    .dataframe thead th {\n",
       "        text-align: right;\n",
       "    }\n",
       "</style>\n",
       "<table border=\"1\" class=\"dataframe\">\n",
       "  <thead>\n",
       "    <tr style=\"text-align: right;\">\n",
       "      <th></th>\n",
       "      <th>ID</th>\n",
       "      <th>Year_Birth</th>\n",
       "      <th>Income</th>\n",
       "      <th>Kidhome</th>\n",
       "      <th>Teenhome</th>\n",
       "      <th>Recency</th>\n",
       "      <th>MntWines</th>\n",
       "      <th>MntFruits</th>\n",
       "      <th>MntMeatProducts</th>\n",
       "      <th>MntFishProducts</th>\n",
       "      <th>...</th>\n",
       "      <th>Dt_Customer_month</th>\n",
       "      <th>Dt_Customer_year</th>\n",
       "      <th>Dt_Customer_seconds</th>\n",
       "      <th>sum_amount</th>\n",
       "      <th>count_trx</th>\n",
       "      <th>CustomerID</th>\n",
       "      <th>R_quartile</th>\n",
       "      <th>F_quartile</th>\n",
       "      <th>M_quartile</th>\n",
       "      <th>RFM_Score</th>\n",
       "    </tr>\n",
       "  </thead>\n",
       "  <tbody>\n",
       "    <tr>\n",
       "      <th>count</th>\n",
       "      <td>2212.000000</td>\n",
       "      <td>2212.000000</td>\n",
       "      <td>2212.000000</td>\n",
       "      <td>2212.000000</td>\n",
       "      <td>2212.000000</td>\n",
       "      <td>2212.000000</td>\n",
       "      <td>2212.000000</td>\n",
       "      <td>2212.000000</td>\n",
       "      <td>2212.000000</td>\n",
       "      <td>2212.000000</td>\n",
       "      <td>...</td>\n",
       "      <td>2212.000000</td>\n",
       "      <td>2212.000000</td>\n",
       "      <td>2.212000e+03</td>\n",
       "      <td>2212.000000</td>\n",
       "      <td>2212.000000</td>\n",
       "      <td>2212.000000</td>\n",
       "      <td>2212.000000</td>\n",
       "      <td>2212.000000</td>\n",
       "      <td>2212.000000</td>\n",
       "      <td>2212.000000</td>\n",
       "    </tr>\n",
       "    <tr>\n",
       "      <th>mean</th>\n",
       "      <td>5586.412749</td>\n",
       "      <td>1968.930380</td>\n",
       "      <td>52237.076854</td>\n",
       "      <td>0.442134</td>\n",
       "      <td>0.505877</td>\n",
       "      <td>48.986438</td>\n",
       "      <td>305.226492</td>\n",
       "      <td>26.335895</td>\n",
       "      <td>167.034810</td>\n",
       "      <td>37.652351</td>\n",
       "      <td>...</td>\n",
       "      <td>6.463382</td>\n",
       "      <td>2013.028029</td>\n",
       "      <td>1.373438e+09</td>\n",
       "      <td>607.225136</td>\n",
       "      <td>20.214286</td>\n",
       "      <td>5586.412749</td>\n",
       "      <td>2.512206</td>\n",
       "      <td>2.467450</td>\n",
       "      <td>2.495479</td>\n",
       "      <td>7.475136</td>\n",
       "    </tr>\n",
       "    <tr>\n",
       "      <th>std</th>\n",
       "      <td>3248.472930</td>\n",
       "      <td>11.686685</td>\n",
       "      <td>25184.285561</td>\n",
       "      <td>0.537004</td>\n",
       "      <td>0.544253</td>\n",
       "      <td>28.931145</td>\n",
       "      <td>337.364344</td>\n",
       "      <td>39.740972</td>\n",
       "      <td>224.251065</td>\n",
       "      <td>54.769810</td>\n",
       "      <td>...</td>\n",
       "      <td>3.491933</td>\n",
       "      <td>0.685926</td>\n",
       "      <td>1.749570e+07</td>\n",
       "      <td>602.548859</td>\n",
       "      <td>7.280775</td>\n",
       "      <td>3248.472930</td>\n",
       "      <td>1.115791</td>\n",
       "      <td>1.141435</td>\n",
       "      <td>1.120702</td>\n",
       "      <td>2.385281</td>\n",
       "    </tr>\n",
       "    <tr>\n",
       "      <th>min</th>\n",
       "      <td>0.000000</td>\n",
       "      <td>1941.000000</td>\n",
       "      <td>1730.000000</td>\n",
       "      <td>0.000000</td>\n",
       "      <td>0.000000</td>\n",
       "      <td>0.000000</td>\n",
       "      <td>0.000000</td>\n",
       "      <td>0.000000</td>\n",
       "      <td>0.000000</td>\n",
       "      <td>0.000000</td>\n",
       "      <td>...</td>\n",
       "      <td>1.000000</td>\n",
       "      <td>2012.000000</td>\n",
       "      <td>1.343606e+09</td>\n",
       "      <td>5.000000</td>\n",
       "      <td>0.000000</td>\n",
       "      <td>0.000000</td>\n",
       "      <td>1.000000</td>\n",
       "      <td>1.000000</td>\n",
       "      <td>1.000000</td>\n",
       "      <td>3.000000</td>\n",
       "    </tr>\n",
       "    <tr>\n",
       "      <th>25%</th>\n",
       "      <td>2814.750000</td>\n",
       "      <td>1959.000000</td>\n",
       "      <td>35233.500000</td>\n",
       "      <td>0.000000</td>\n",
       "      <td>0.000000</td>\n",
       "      <td>24.000000</td>\n",
       "      <td>24.000000</td>\n",
       "      <td>2.000000</td>\n",
       "      <td>16.000000</td>\n",
       "      <td>3.000000</td>\n",
       "      <td>...</td>\n",
       "      <td>3.000000</td>\n",
       "      <td>2013.000000</td>\n",
       "      <td>1.358294e+09</td>\n",
       "      <td>69.000000</td>\n",
       "      <td>14.000000</td>\n",
       "      <td>2814.750000</td>\n",
       "      <td>2.000000</td>\n",
       "      <td>1.000000</td>\n",
       "      <td>1.000000</td>\n",
       "      <td>6.000000</td>\n",
       "    </tr>\n",
       "    <tr>\n",
       "      <th>50%</th>\n",
       "      <td>5454.500000</td>\n",
       "      <td>1970.000000</td>\n",
       "      <td>51381.500000</td>\n",
       "      <td>0.000000</td>\n",
       "      <td>0.000000</td>\n",
       "      <td>49.000000</td>\n",
       "      <td>175.500000</td>\n",
       "      <td>8.000000</td>\n",
       "      <td>68.000000</td>\n",
       "      <td>12.000000</td>\n",
       "      <td>...</td>\n",
       "      <td>6.000000</td>\n",
       "      <td>2013.000000</td>\n",
       "      <td>1.373242e+09</td>\n",
       "      <td>397.000000</td>\n",
       "      <td>19.000000</td>\n",
       "      <td>5454.500000</td>\n",
       "      <td>3.000000</td>\n",
       "      <td>2.000000</td>\n",
       "      <td>2.000000</td>\n",
       "      <td>8.000000</td>\n",
       "    </tr>\n",
       "    <tr>\n",
       "      <th>75%</th>\n",
       "      <td>8421.750000</td>\n",
       "      <td>1977.000000</td>\n",
       "      <td>68522.000000</td>\n",
       "      <td>1.000000</td>\n",
       "      <td>1.000000</td>\n",
       "      <td>74.000000</td>\n",
       "      <td>505.000000</td>\n",
       "      <td>33.000000</td>\n",
       "      <td>232.250000</td>\n",
       "      <td>50.000000</td>\n",
       "      <td>...</td>\n",
       "      <td>10.000000</td>\n",
       "      <td>2013.000000</td>\n",
       "      <td>1.388448e+09</td>\n",
       "      <td>1048.000000</td>\n",
       "      <td>25.000000</td>\n",
       "      <td>8421.750000</td>\n",
       "      <td>4.000000</td>\n",
       "      <td>3.000000</td>\n",
       "      <td>3.000000</td>\n",
       "      <td>9.000000</td>\n",
       "    </tr>\n",
       "    <tr>\n",
       "      <th>max</th>\n",
       "      <td>11191.000000</td>\n",
       "      <td>1996.000000</td>\n",
       "      <td>666666.000000</td>\n",
       "      <td>2.000000</td>\n",
       "      <td>2.000000</td>\n",
       "      <td>99.000000</td>\n",
       "      <td>1493.000000</td>\n",
       "      <td>199.000000</td>\n",
       "      <td>1725.000000</td>\n",
       "      <td>259.000000</td>\n",
       "      <td>...</td>\n",
       "      <td>12.000000</td>\n",
       "      <td>2014.000000</td>\n",
       "      <td>1.404000e+09</td>\n",
       "      <td>2525.000000</td>\n",
       "      <td>46.000000</td>\n",
       "      <td>11191.000000</td>\n",
       "      <td>4.000000</td>\n",
       "      <td>4.000000</td>\n",
       "      <td>4.000000</td>\n",
       "      <td>12.000000</td>\n",
       "    </tr>\n",
       "  </tbody>\n",
       "</table>\n",
       "<p>8 rows × 36 columns</p>\n",
       "</div>"
      ],
      "text/plain": [
       "                 ID   Year_Birth         Income      Kidhome     Teenhome  \\\n",
       "count   2212.000000  2212.000000    2212.000000  2212.000000  2212.000000   \n",
       "mean    5586.412749  1968.930380   52237.076854     0.442134     0.505877   \n",
       "std     3248.472930    11.686685   25184.285561     0.537004     0.544253   \n",
       "min        0.000000  1941.000000    1730.000000     0.000000     0.000000   \n",
       "25%     2814.750000  1959.000000   35233.500000     0.000000     0.000000   \n",
       "50%     5454.500000  1970.000000   51381.500000     0.000000     0.000000   \n",
       "75%     8421.750000  1977.000000   68522.000000     1.000000     1.000000   \n",
       "max    11191.000000  1996.000000  666666.000000     2.000000     2.000000   \n",
       "\n",
       "           Recency     MntWines    MntFruits  MntMeatProducts  \\\n",
       "count  2212.000000  2212.000000  2212.000000      2212.000000   \n",
       "mean     48.986438   305.226492    26.335895       167.034810   \n",
       "std      28.931145   337.364344    39.740972       224.251065   \n",
       "min       0.000000     0.000000     0.000000         0.000000   \n",
       "25%      24.000000    24.000000     2.000000        16.000000   \n",
       "50%      49.000000   175.500000     8.000000        68.000000   \n",
       "75%      74.000000   505.000000    33.000000       232.250000   \n",
       "max      99.000000  1493.000000   199.000000      1725.000000   \n",
       "\n",
       "       MntFishProducts  ...  Dt_Customer_month  Dt_Customer_year  \\\n",
       "count      2212.000000  ...        2212.000000       2212.000000   \n",
       "mean         37.652351  ...           6.463382       2013.028029   \n",
       "std          54.769810  ...           3.491933          0.685926   \n",
       "min           0.000000  ...           1.000000       2012.000000   \n",
       "25%           3.000000  ...           3.000000       2013.000000   \n",
       "50%          12.000000  ...           6.000000       2013.000000   \n",
       "75%          50.000000  ...          10.000000       2013.000000   \n",
       "max         259.000000  ...          12.000000       2014.000000   \n",
       "\n",
       "       Dt_Customer_seconds   sum_amount    count_trx    CustomerID  \\\n",
       "count         2.212000e+03  2212.000000  2212.000000   2212.000000   \n",
       "mean          1.373438e+09   607.225136    20.214286   5586.412749   \n",
       "std           1.749570e+07   602.548859     7.280775   3248.472930   \n",
       "min           1.343606e+09     5.000000     0.000000      0.000000   \n",
       "25%           1.358294e+09    69.000000    14.000000   2814.750000   \n",
       "50%           1.373242e+09   397.000000    19.000000   5454.500000   \n",
       "75%           1.388448e+09  1048.000000    25.000000   8421.750000   \n",
       "max           1.404000e+09  2525.000000    46.000000  11191.000000   \n",
       "\n",
       "        R_quartile   F_quartile   M_quartile    RFM_Score  \n",
       "count  2212.000000  2212.000000  2212.000000  2212.000000  \n",
       "mean      2.512206     2.467450     2.495479     7.475136  \n",
       "std       1.115791     1.141435     1.120702     2.385281  \n",
       "min       1.000000     1.000000     1.000000     3.000000  \n",
       "25%       2.000000     1.000000     1.000000     6.000000  \n",
       "50%       3.000000     2.000000     2.000000     8.000000  \n",
       "75%       4.000000     3.000000     3.000000     9.000000  \n",
       "max       4.000000     4.000000     4.000000    12.000000  \n",
       "\n",
       "[8 rows x 36 columns]"
      ]
     },
     "execution_count": 26,
     "metadata": {},
     "output_type": "execute_result"
    }
   ],
   "source": [
    "df2.describe()"
   ]
  },
  {
   "cell_type": "code",
   "execution_count": 27,
   "metadata": {},
   "outputs": [
    {
     "data": {
      "text/plain": [
       "2525"
      ]
     },
     "execution_count": 27,
     "metadata": {},
     "output_type": "execute_result"
    }
   ],
   "source": [
    "max(df2['sum_amount'])"
   ]
  },
  {
   "cell_type": "code",
   "execution_count": 28,
   "metadata": {},
   "outputs": [
    {
     "name": "stdout",
     "output_type": "stream",
     "text": [
      "69.0 397.0 1048.0 2525.0\n",
      "14.0 19.0 25.0 46.0\n"
     ]
    }
   ],
   "source": [
    "sum_amt_quart = list(df2['sum_amount'].quantile([0.25, 0.5, 0.75, 1]))\n",
    "count_trx_quart = list(df2['count_trx'].quantile([0.25, 0.5, 0.75, 1]))\n",
    "\n",
    "q1val = sum_amt_quart[0]\n",
    "q2val = sum_amt_quart[1]\n",
    "q3val = sum_amt_quart[2]\n",
    "q4val = sum_amt_quart[3]\n",
    "\n",
    "q1trx = count_trx_quart[0]\n",
    "q2trx = count_trx_quart[1]\n",
    "q3trx = count_trx_quart[2]\n",
    "q4trx = count_trx_quart[3]\n",
    "\n",
    "print(q1val, q2val, q3val, q4val)\n",
    "print(q1trx, q2trx, q3trx, q4trx)\n",
    "\n",
    "spending = []\n",
    "\n",
    "for value in df2['sum_amount'].values:\n",
    "    if value <= q1val:\n",
    "        spending.append('LS')\n",
    "    elif value > q1val and value <= q2val:\n",
    "        spending.append('MS')\n",
    "    elif value > q2val and value <= q3val:\n",
    "        spending.append('HS')\n",
    "    else:\n",
    "        spending.append('VHS')\n",
    "\n",
    "frequency = []\n",
    "\n",
    "for value in df2['count_trx'].values:\n",
    "    if value <= q1trx:\n",
    "        frequency.append('LF')\n",
    "    elif value > q1trx and value <= q2trx:\n",
    "        frequency.append('MF')\n",
    "    elif value > q2trx and value <= q3trx:\n",
    "        frequency.append('HF')\n",
    "    else:\n",
    "        frequency.append('VHF')\n",
    "\n",
    "rfm_class = []\n",
    "\n",
    "for value in df2['RFM_Score'].values:\n",
    "    if value >= 3 and value <= 5:\n",
    "        rfm_class.append('3 - 5')\n",
    "    elif value >= 6 and value <= 8:\n",
    "        rfm_class.append('6 - 8')\n",
    "    else:\n",
    "        rfm_class.append('9 - 12')\n",
    "\n",
    "df2['spending_class'] = spending\n",
    "df2['frequency_class'] =  frequency\n",
    "df2['rfm_class'] =  rfm_class"
   ]
  },
  {
   "cell_type": "code",
   "execution_count": 29,
   "metadata": {},
   "outputs": [
    {
     "data": {
      "text/html": [
       "<div>\n",
       "<style scoped>\n",
       "    .dataframe tbody tr th:only-of-type {\n",
       "        vertical-align: middle;\n",
       "    }\n",
       "\n",
       "    .dataframe tbody tr th {\n",
       "        vertical-align: top;\n",
       "    }\n",
       "\n",
       "    .dataframe thead th {\n",
       "        text-align: right;\n",
       "    }\n",
       "</style>\n",
       "<table border=\"1\" class=\"dataframe\">\n",
       "  <thead>\n",
       "    <tr style=\"text-align: right;\">\n",
       "      <th>spending_class</th>\n",
       "      <th>LS</th>\n",
       "      <th>MS</th>\n",
       "      <th>HS</th>\n",
       "      <th>VHS</th>\n",
       "    </tr>\n",
       "    <tr>\n",
       "      <th>frequency_class</th>\n",
       "      <th></th>\n",
       "      <th></th>\n",
       "      <th></th>\n",
       "      <th></th>\n",
       "    </tr>\n",
       "  </thead>\n",
       "  <tbody>\n",
       "    <tr>\n",
       "      <th>LF</th>\n",
       "      <td>466</td>\n",
       "      <td>141</td>\n",
       "      <td>7</td>\n",
       "      <td>4</td>\n",
       "    </tr>\n",
       "    <tr>\n",
       "      <th>MF</th>\n",
       "      <td>90</td>\n",
       "      <td>252</td>\n",
       "      <td>62</td>\n",
       "      <td>85</td>\n",
       "    </tr>\n",
       "    <tr>\n",
       "      <th>HF</th>\n",
       "      <td>2</td>\n",
       "      <td>142</td>\n",
       "      <td>199</td>\n",
       "      <td>215</td>\n",
       "    </tr>\n",
       "    <tr>\n",
       "      <th>VHF</th>\n",
       "      <td>2</td>\n",
       "      <td>13</td>\n",
       "      <td>284</td>\n",
       "      <td>248</td>\n",
       "    </tr>\n",
       "  </tbody>\n",
       "</table>\n",
       "</div>"
      ],
      "text/plain": [
       "spending_class    LS   MS   HS  VHS\n",
       "frequency_class                    \n",
       "LF               466  141    7    4\n",
       "MF                90  252   62   85\n",
       "HF                 2  142  199  215\n",
       "VHF                2   13  284  248"
      ]
     },
     "execution_count": 29,
     "metadata": {},
     "output_type": "execute_result"
    }
   ],
   "source": [
    "pivot_df = pd.pivot_table(df2, values='ID', index='frequency_class', columns='spending_class', aggfunc='count', fill_value=0)\n",
    "spending_order = ['LS', 'MS', 'HS', 'VHS']\n",
    "frequency_order = ['LF', 'MF', 'HF', 'VHF']\n",
    "\n",
    "# Reorder columns and index according to the defined order\n",
    "pivot_df = pivot_df[spending_order].loc[frequency_order]\n",
    "pivot_df"
   ]
  },
  {
   "cell_type": "code",
   "execution_count": 48,
   "metadata": {},
   "outputs": [],
   "source": [
    "# df2.to_csv('rfm_df_complete_v2.csv', index=False)"
   ]
  },
  {
   "cell_type": "code",
   "execution_count": 35,
   "metadata": {},
   "outputs": [
    {
     "data": {
      "image/png": "[encoded data removed]",
      "text/plain": [
       "<Figure size 1500x1000 with 1 Axes>"
      ]
     },
     "metadata": {},
     "output_type": "display_data"
    }
   ],
   "source": [
    "rfm_order = ['3 - 5', '6 - 8', '9 - 12']\n",
    "\n",
    "# Convert the 'rfm_class' column to a categorical type with the specified order\n",
    "df2['rfm_class'] = pd.Categorical(df2['rfm_class'], categories=rfm_order, ordered=True)\n",
    "\n",
    "# Create the pivot table\n",
    "pivot_table = df2.pivot_table(values='ID', index='age_group', columns='rfm_class', aggfunc='count', fill_value=0)\n",
    "\n",
    "fig, ax = plt.subplots(figsize=(15, 10))  # Define figure and axis with specified size\n",
    "sns.barplot(x='age_group', y='ID', hue='rfm_class', data=df2, estimator=len, ax=ax)\n",
    "\n",
    "plt.title('Distribution of RFM Classes by Age Group')\n",
    "for p in ax.patches:\n",
    "    ax.annotate(f'{int(p.get_height())}', (p.get_x() + p.get_width() / 2., p.get_height()),\n",
    "                ha='center', va='baseline', xytext=(0, 5), textcoords='offset points')\n",
    "\n",
    "plt.ylabel('Count')\n",
    "plt.xlabel('Age Group')\n",
    "plt.show()\n"
   ]
  },
  {
   "cell_type": "code",
   "execution_count": null,
   "metadata": {},
   "outputs": [],
   "source": []
  },
  {
   "cell_type": "code",
   "execution_count": 36,
   "metadata": {},
   "outputs": [
    {
     "data": {
      "image/png": "[encoded data removed]",
      "text/plain": [
       "<Figure size 1500x600 with 1 Axes>"
      ]
     },
     "metadata": {},
     "output_type": "display_data"
    },
    {
     "data": {
      "image/png": "[encoded data removed]",
      "text/plain": [
       "<Figure size 1500x600 with 1 Axes>"
      ]
     },
     "metadata": {},
     "output_type": "display_data"
    }
   ],
   "source": [
    "# Melt the DataFrame to have 'rfm_class', 'variable', and 'value' columns for 'Mnt' categories\n",
    "mnt_cols = ['rfm_class', 'MntWines', 'MntFruits', 'MntMeatProducts', 'MntFishProducts', 'MntSweetProducts', 'MntGoldProds']\n",
    "df_mnt = df2[mnt_cols].groupby('rfm_class').sum().reset_index().melt(id_vars='rfm_class', value_vars=mnt_cols[1:], var_name='category', value_name='amount')\n",
    "\n",
    "# Melt the DataFrame to have 'rfm_class', 'variable', and 'value' columns for 'Num' categories\n",
    "num_cols = ['rfm_class', 'NumDealsPurchases', 'NumWebPurchases', 'NumCatalogPurchases', 'NumStorePurchases', 'NumWebVisitsMonth']\n",
    "df_num = df2[num_cols].groupby('rfm_class').sum().reset_index().melt(id_vars='rfm_class', value_vars=num_cols[1:], var_name='category', value_name='amount')\n",
    "\n",
    "\n",
    "\n",
    "# Google-like color palette\n",
    "google_palette = ['#4285F4', '#DB4437', '#F4C20D', '#0F9D58']\n",
    "\n",
    "plt.figure(figsize=(15, 6))\n",
    "ax_mnt = sns.barplot(x='category', y='amount', hue='rfm_class', data=df_mnt, palette=google_palette, hue_order=['3 - 5', '6 - 8', '9 - 12'])\n",
    "plt.title('Distribution of Mnt Categories by RFM Class')\n",
    "plt.ylabel('Amount')\n",
    "plt.xlabel('Category')\n",
    "\n",
    "# Add numbers on top of the bars\n",
    "for p in ax_mnt.patches:\n",
    "    ax_mnt.annotate(f'{int(p.get_height())}', (p.get_x() + p.get_width() / 2., p.get_height()),\n",
    "                    ha='center', va='baseline', xytext=(0, 5), textcoords='offset points')\n",
    "\n",
    "plt.show()\n",
    "\n",
    "plt.figure(figsize=(15, 6))\n",
    "ax_num = sns.barplot(x='category', y='amount', hue='rfm_class', data=df_num, palette=google_palette, hue_order=['3 - 5', '6 - 8', '9 - 12'])\n",
    "plt.title('Distribution of Num Categories by RFM Class')\n",
    "plt.ylabel('Amount')\n",
    "plt.xlabel('Category')\n",
    "\n",
    "# Add numbers on top of the bars\n",
    "for p in ax_num.patches:\n",
    "    ax_num.annotate(f'{int(p.get_height())}', (p.get_x() + p.get_width() / 2., p.get_height()),\n",
    "                    ha='center', va='baseline', xytext=(0, 5), textcoords='offset points')\n",
    "\n",
    "plt.show()\n",
    "\n"
   ]
  },
  {
   "cell_type": "code",
   "execution_count": 40,
   "metadata": {},
   "outputs": [],
   "source": [
    "df_loyal = df2[df2['segment']=='loyal cust']"
   ]
  },
  {
   "cell_type": "code",
   "execution_count": 41,
   "metadata": {},
   "outputs": [
    {
     "data": {
      "text/plain": [
       "Index(['ID', 'Year_Birth', 'Education', 'Marital_Status', 'Income', 'Kidhome',\n",
       "       'Teenhome', 'Recency', 'MntWines', 'MntFruits', 'MntMeatProducts',\n",
       "       'MntFishProducts', 'MntSweetProducts', 'MntGoldProds',\n",
       "       'NumDealsPurchases', 'NumWebPurchases', 'NumCatalogPurchases',\n",
       "       'NumStorePurchases', 'NumWebVisitsMonth', 'AcceptedCmp3',\n",
       "       'AcceptedCmp4', 'AcceptedCmp5', 'AcceptedCmp1', 'AcceptedCmp2',\n",
       "       'Complain', 'Z_CostContact', 'Z_Revenue', 'Response',\n",
       "       'Dt_Customer_month', 'Dt_Customer_year', 'Dt_Customer_seconds',\n",
       "       'age_group', 'sum_amount', 'count_trx', 'CustomerID', 'R_quartile',\n",
       "       'F_quartile', 'M_quartile', 'RFM_Segment', 'RFM_Score', 'segment',\n",
       "       'spending_class', 'frequency_class', 'rfm_class'],\n",
       "      dtype='object')"
      ]
     },
     "execution_count": 41,
     "metadata": {},
     "output_type": "execute_result"
    }
   ],
   "source": [
    "df_loyal.columns"
   ]
  },
  {
   "cell_type": "code",
   "execution_count": 42,
   "metadata": {},
   "outputs": [
    {
     "name": "stderr",
     "output_type": "stream",
     "text": [
      "C:\\Users\\DGRSZOMBIE315\\AppData\\Local\\Temp\\ipykernel_20848\\3698725629.py:5: SettingWithCopyWarning:\n",
      "\n",
      "\n",
      "A value is trying to be set on a copy of a slice from a DataFrame.\n",
      "Try using .loc[row_indexer,col_indexer] = value instead\n",
      "\n",
      "See the caveats in the documentation: https://pandas.pydata.org/pandas-docs/stable/user_guide/indexing.html#returning-a-view-versus-a-copy\n",
      "\n"
     ]
    }
   ],
   "source": [
    "bins = [0, 15000, 30000, 50000, 100000, 160000]\n",
    "labels = ['<= 15k', '>15k-30k', '>30k-50k', '>50k-100k', '>100k-160k']\n",
    "\n",
    "# Create a new column using the pd.cut function\n",
    "df_loyal['income_cateory'] =  pd.cut(df_loyal['Income'], bins=bins, labels=labels, right=False)\n",
    "\n",
    "df_loyal = df_loyal.rename(columns={'MntWines':'wines', 'MntFruits': 'fruits', 'MntMeatProducts': 'meats', 'MntFishProducts': 'fish', 'MntSweetProducts': 'sweets', 'MntGoldProds': 'gold',\\\n",
    "                                    'NumDealsPurchases':'Deal Purchases', 'NumWebPurchases': 'Web Purchases', 'NumCatalogPurchases': 'Catalog Purchases', 'NumStorePurchases': 'Store Purchases',\\\n",
    "                                    'AcceptedCmp3': 'Campaign 3', 'AcceptedCmp4': 'Campaign 4', 'AcceptedCmp5': 'Campaign 5', 'AcceptedCmp1': 'Campaign 1','AcceptedCmp2': 'Campaign 2'})"
   ]
  },
  {
   "cell_type": "code",
   "execution_count": 43,
   "metadata": {},
   "outputs": [
    {
     "data": {
      "image/png": "[encoded data removed]",
      "text/plain": [
       "<Figure size 1000x600 with 1 Axes>"
      ]
     },
     "metadata": {},
     "output_type": "display_data"
    }
   ],
   "source": [
    "df_loyal_melted = df_loyal.melt(id_vars='ID', value_vars=['wines', 'fruits', 'meats', 'fish', 'sweets', 'gold'])\n",
    "\n",
    "# Group by 'variable' and sum the 'value'\n",
    "df_loyal_sum = df_loyal_melted.groupby('variable')['value'].sum().reset_index()\n",
    "\n",
    "# Create a bar plot\n",
    "plt.figure(figsize=[10,6])\n",
    "ax = sns.barplot(x='variable', y='value', data=df_loyal_sum)\n",
    "plt.title('Comparison of Spending in Different Categories for Loyal Customers')\n",
    "plt.xlabel('Category')\n",
    "plt.ylabel('Spending')\n",
    "\n",
    "# Remove vertical grid lines\n",
    "plt.grid(axis='y', linestyle='-')\n",
    "\n",
    "# Show the numbers on top of the bars\n",
    "for container in ax.containers:\n",
    "    ax.bar_label(container, fmt= lambda x: '{:,}'.format(int(x)), padding=3)\n",
    "\n",
    "plt.show()"
   ]
  },
  {
   "cell_type": "code",
   "execution_count": 45,
   "metadata": {},
   "outputs": [
    {
     "data": {
      "image/png": "[encoded data removed]",
      "text/plain": [
       "<Figure size 1000x600 with 1 Axes>"
      ]
     },
     "metadata": {},
     "output_type": "display_data"
    }
   ],
   "source": [
    "df_loyal_melted = df_loyal.melt(id_vars='ID', value_vars=['wines', 'fruits', 'meats', 'fish', 'sweets', 'gold'])\n",
    "\n",
    "# Group by 'variable' and sum the 'value'\n",
    "df_loyal_sum = df_loyal_melted.groupby('variable')['value'].sum().reset_index()\n",
    "\n",
    "# Create a bar plot\n",
    "plt.figure(figsize=[10,6])\n",
    "ax = sns.barplot(x='variable', y='value', data=df_loyal_sum)\n",
    "plt.title('Comparison of Spending in Different Categories for Loyal Customers')\n",
    "plt.xlabel('Category')\n",
    "plt.ylabel('Spending')\n",
    "\n",
    "# Remove vertical grid lines\n",
    "plt.grid(axis='y', linestyle='-')\n",
    "\n",
    "# Show the numbers on top of the bars\n",
    "for container in ax.containers:\n",
    "    ax.bar_label(container, fmt= lambda x: '{:,}'.format(int(x)), padding=3)\n",
    "\n",
    "plt.show()"
   ]
  },
  {
   "cell_type": "code",
   "execution_count": 46,
   "metadata": {},
   "outputs": [
    {
     "data": {
      "image/png": "[encoded data removed]",
      "text/plain": [
       "<Figure size 1000x600 with 1 Axes>"
      ]
     },
     "metadata": {},
     "output_type": "display_data"
    }
   ],
   "source": [
    "df_loyal_melted = df_loyal.melt(id_vars='ID', value_vars=['Campaign 3', 'Campaign 4', 'Campaign 5', 'Campaign 1', 'Campaign 2'])\n",
    "\n",
    "# Group by 'variable' and sum the 'value'\n",
    "df_loyal_sum = df_loyal_melted.groupby('variable')['value'].sum().reset_index()\n",
    "\n",
    "# Create a bar plot\n",
    "plt.figure(figsize=[10,6])\n",
    "ax = sns.barplot(x='variable', y='value', data=df_loyal_sum)\n",
    "plt.title('Comparison of Accepting campaign promo in different offers ')\n",
    "plt.xlabel('Campaign Category')\n",
    "plt.ylabel('Spending')\n",
    "\n",
    "# Remove vertical grid lines\n",
    "plt.grid(axis='y', linestyle='-')\n",
    "\n",
    "# Show the numbers on top of the bars\n",
    "for container in ax.containers:\n",
    "    ax.bar_label(container, fmt= lambda x: '{:,}'.format(int(x)), padding=3)\n",
    "\n",
    "plt.show()"
   ]
  },
  {
   "cell_type": "code",
   "execution_count": 47,
   "metadata": {},
   "outputs": [
    {
     "data": {
      "image/png": "[encoded data removed]",
      "text/plain": [
       "<Figure size 1000x600 with 1 Axes>"
      ]
     },
     "metadata": {},
     "output_type": "display_data"
    }
   ],
   "source": [
    "df_loyal_melted = df_loyal.melt(id_vars='ID', value_vars=['Web Purchases','Catalog Purchases', 'Store Purchases', 'Deal Purchases'])\n",
    "\n",
    "# Group by 'variable' and sum the 'value'\n",
    "df_loyal_sum = df_loyal_melted.groupby('variable')['value'].sum().reset_index()\n",
    "\n",
    "# Create a bar plot\n",
    "plt.figure(figsize=[10,6])\n",
    "ax = sns.barplot(x='variable', y='value', data=df_loyal_sum)\n",
    "plt.title('Comparison of Purchases in Different Channels of Loyal Customers')\n",
    "plt.xlabel('Category')\n",
    "plt.ylabel('Spending')\n",
    "\n",
    "# Remove vertical grid lines\n",
    "plt.grid(axis='y', linestyle='-')\n",
    "\n",
    "# Show the numbers on top of the bars\n",
    "for container in ax.containers:\n",
    "    ax.bar_label(container, fmt='%d', padding=3)\n",
    "\n",
    "plt.show()"
   ]
  }
 ],
 "metadata": {
  "kernelspec": {
   "display_name": "base",
   "language": "python",
   "name": "python3"
  },
  "language_info": {
   "codemirror_mode": {
    "name": "ipython",
    "version": 3
   },
   "file_extension": ".py",
   "mimetype": "text/x-python",
   "name": "python",
   "nbconvert_exporter": "python",
   "pygments_lexer": "ipython3",
   "version": "3.11.5"
  },
  "orig_nbformat": 4
 },
 "nbformat": 4,
 "nbformat_minor": 2
}
